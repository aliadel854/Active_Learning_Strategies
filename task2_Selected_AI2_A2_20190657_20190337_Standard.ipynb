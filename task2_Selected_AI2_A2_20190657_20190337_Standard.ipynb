{
 "cells": [
  {
   "cell_type": "code",
   "execution_count": null,
   "metadata": {
    "id": "TDxA3PybZ29B"
   },
   "outputs": [],
   "source": [
    "# https://github.com/ej0cl6/deep-active-learning"
   ]
  },
  {
   "cell_type": "code",
   "execution_count": null,
   "metadata": {
    "id": "U5XjqcWAbXfw"
   },
   "outputs": [],
   "source": [
    "import numpy as np\n",
    "import pandas as pd\n",
    "import matplotlib.pyplot as plt\n",
    "from keras.utils import np_utils\n",
    "from keras.models import Sequential\n",
    "from keras.layers import Input, Conv2D, MaxPool2D, Flatten, Dense, InputLayer,MaxPooling2D, BatchNormalization, Dropout,LeakyReLU\n",
    "from matplotlib.pyplot import imshow\n",
    "from tensorflow.keras.preprocessing import image\n",
    "from tensorflow.keras.models import Model\n",
    "from tensorflow.keras.layers import Dense"
   ]
  },
  {
   "cell_type": "code",
   "execution_count": null,
   "metadata": {
    "id": "ppirRZwRd_ZM"
   },
   "outputs": [],
   "source": [
    "def generate_model(input_shape,class_numbers):\n",
    "  model = Sequential([\n",
    "      Conv2D(filters=32, kernel_size=(3, 3), activation='relu', input_shape=input_shape),\n",
    "      MaxPooling2D(pool_size=(2, 2)),\n",
    "      Conv2D(filters=64, kernel_size=(3, 3), activation='relu'),\n",
    "      MaxPooling2D(pool_size=(2, 2)),\n",
    "      Flatten(),\n",
    "      Dense(units=64, activation='relu'),\n",
    "      Dense(units=class_numbers, activation='softmax')\n",
    "  ])\n",
    "  model.compile(optimizer='adam',\n",
    "                loss='categorical_crossentropy',\n",
    "                metrics=['accuracy'])\n",
    "  return model"
   ]
  },
  {
   "cell_type": "markdown",
   "metadata": {
    "id": "GgFrEuXhjTw7"
   },
   "source": [
    "# Datasets Loading\n"
   ]
  },
  {
   "cell_type": "markdown",
   "metadata": {
    "id": "KVh5wOgcjaIt"
   },
   "source": [
    "## 1- CIFAR10"
   ]
  },
  {
   "cell_type": "code",
   "execution_count": null,
   "metadata": {
    "colab": {
     "base_uri": "https://localhost:8080/"
    },
    "id": "JTuTQzI6cMfL",
    "outputId": "ef233567-3e51-4478-8091-7ef845d81118"
   },
   "outputs": [
    {
     "name": "stdout",
     "output_type": "stream",
     "text": [
      "Downloading data from https://www.cs.toronto.edu/~kriz/cifar-10-python.tar.gz\n",
      "170498071/170498071 [==============================] - 2s 0us/step\n"
     ]
    }
   ],
   "source": [
    "from keras.datasets import cifar10\n",
    "(X_train_cifar10, y_train_cifar10), (X_test_cifar10, y_test_cifar10) = cifar10.load_data()"
   ]
  },
  {
   "cell_type": "code",
   "execution_count": null,
   "metadata": {
    "id": "uf82Xq2iquxg"
   },
   "outputs": [],
   "source": [
    "X_train_cifar10=X_train_cifar10.astype('float32')\n",
    "X_test_cifar10=X_test_cifar10.astype('float32')\n",
    "X_train_cifar10/=255\n",
    "X_test_cifar10/=255"
   ]
  },
  {
   "cell_type": "code",
   "execution_count": null,
   "metadata": {
    "id": "3J8y_Nk0jxLZ"
   },
   "outputs": [],
   "source": [
    "cifar10_model=generate_model(X_train_cifar10[0].shape,10)"
   ]
  },
  {
   "cell_type": "markdown",
   "metadata": {
    "id": "u1kf4MPGjr3k"
   },
   "source": [
    "## 2-Mnist"
   ]
  },
  {
   "cell_type": "code",
   "execution_count": null,
   "metadata": {
    "colab": {
     "base_uri": "https://localhost:8080/"
    },
    "id": "NOlLQqnVbNSY",
    "outputId": "01a10534-90b2-4c28-a3a9-30ab3fb504a3"
   },
   "outputs": [
    {
     "name": "stdout",
     "output_type": "stream",
     "text": [
      "Downloading data from https://storage.googleapis.com/tensorflow/tf-keras-datasets/mnist.npz\n",
      "11490434/11490434 [==============================] - 0s 0us/step\n"
     ]
    }
   ],
   "source": [
    "import numpy as np\n",
    "import matplotlib.pyplot as plt\n",
    "from keras.datasets import mnist\n",
    "import matplotlib.pyplot as plt\n",
    "from math import sqrt\n",
    "(X_train_mnist, y_train_mnist), (X_test_mnist, y_test_mnist)=mnist.load_data()\n",
    "X_train_mnist=X_train_mnist[:10000]\n",
    "y_train_mnist=y_train_mnist[:10000]\n",
    "X_test_mnist=X_test_mnist[:1000]\n",
    "y_test_mnist=y_test_mnist[:1000]\n",
    "X_train_mnist=X_train_mnist.astype('float32')\n",
    "X_test_mnist=X_test_mnist.astype('float32')\n",
    "X_train_mnist/=255\n",
    "X_test_mnist/=255\n",
    "X_train_mnist=X_train_mnist.reshape(10000,28,28,1)\n",
    "X_test_mnist=X_test_mnist.reshape(1000,28,28,1)"
   ]
  },
  {
   "cell_type": "code",
   "execution_count": null,
   "metadata": {
    "colab": {
     "base_uri": "https://localhost:8080/"
    },
    "id": "Je-eRg1plbeI",
    "outputId": "a1ba1f98-0156-461d-a541-d6847378676b"
   },
   "outputs": [
    {
     "data": {
      "text/plain": [
       "(10000, 28, 28, 1)"
      ]
     },
     "execution_count": 8,
     "metadata": {},
     "output_type": "execute_result"
    }
   ],
   "source": [
    "X_train_mnist.shape"
   ]
  },
  {
   "cell_type": "code",
   "execution_count": null,
   "metadata": {
    "id": "uw2auyHVk-fc"
   },
   "outputs": [],
   "source": [
    "mnist_model=generate_model(X_train_mnist[0].shape,10)"
   ]
  },
  {
   "cell_type": "code",
   "execution_count": null,
   "metadata": {
    "id": "-bC0k9izaXX6"
   },
   "outputs": [],
   "source": [
    "Y_train_mnist = np_utils.to_categorical(y_train_mnist, 10)\n",
    "Y_test_mnist = np_utils.to_categorical(y_test_mnist, 10)"
   ]
  },
  {
   "cell_type": "code",
   "execution_count": null,
   "metadata": {
    "id": "gcvqmotbbylv"
   },
   "outputs": [],
   "source": [
    "Y_train_cifar10 = np_utils.to_categorical(y_train_cifar10, 10)\n",
    "Y_test_cifar10 = np_utils.to_categorical(y_test_cifar10, 10)"
   ]
  },
  {
   "cell_type": "code",
   "execution_count": null,
   "metadata": {
    "colab": {
     "base_uri": "https://localhost:8080/"
    },
    "id": "fNna4aKftDAD",
    "outputId": "5575c3f3-b8c1-4b14-daaa-e21bf6c67ebc"
   },
   "outputs": [
    {
     "data": {
      "text/plain": [
       "array([0., 0., 0., 1., 0., 0., 0., 0., 0., 0.], dtype=float32)"
      ]
     },
     "execution_count": 12,
     "metadata": {},
     "output_type": "execute_result"
    }
   ],
   "source": [
    "Y_test_cifar10[0]"
   ]
  },
  {
   "cell_type": "markdown",
   "metadata": {
    "id": "fLHiOfQXtI_X"
   },
   "source": [
    "### Clonning the repo"
   ]
  },
  {
   "cell_type": "code",
   "execution_count": 2,
   "metadata": {
    "colab": {
     "base_uri": "https://localhost:8080/"
    },
    "id": "XqHFWWGhtZXo",
    "outputId": "8a55ea33-cb7a-42cf-8906-3955a69a090c"
   },
   "outputs": [
    {
     "name": "stdout",
     "output_type": "stream",
     "text": [
      "Cloning into 'deep-active-learning'...\n",
      "remote: Enumerating objects: 232, done.\u001b[K\n",
      "remote: Total 232 (delta 0), reused 0 (delta 0), pack-reused 232\u001b[K\n",
      "Receiving objects: 100% (232/232), 44.12 KiB | 14.71 MiB/s, done.\n",
      "Resolving deltas: 100% (141/141), done.\n"
     ]
    }
   ],
   "source": [
    "! git clone https://github.com/ej0cl6/deep-active-learning.git"
   ]
  },
  {
   "cell_type": "code",
   "execution_count": 3,
   "metadata": {
    "colab": {
     "base_uri": "https://localhost:8080/"
    },
    "id": "9PXhRYcfvePb",
    "outputId": "4b6d73e8-3779-4825-9e06-ad8d244d0765"
   },
   "outputs": [
    {
     "name": "stdout",
     "output_type": "stream",
     "text": [
      "/content/deep-active-learning\n"
     ]
    }
   ],
   "source": [
    "%cd /content/deep-active-learning"
   ]
  },
  {
   "cell_type": "markdown",
   "metadata": {
    "id": "Fu8ohHijKnpI"
   },
   "source": [
    "## *RandomSampling*"
   ]
  },
  {
   "cell_type": "code",
   "execution_count": null,
   "metadata": {
    "colab": {
     "base_uri": "https://localhost:8080/"
    },
    "id": "OMeGq4pzuCsV",
    "outputId": "8d1183e9-eec9-42a3-f8bc-6384c1009986"
   },
   "outputs": [
    {
     "name": "stdout",
     "output_type": "stream",
     "text": [
      "{'dataset_name': 'MNIST',\n",
      " 'n_init_labeled': 10000,\n",
      " 'n_query': 1000,\n",
      " 'n_round': 10,\n",
      " 'seed': 1,\n",
      " 'strategy_name': 'RandomSampling'}\n",
      "\n",
      "Downloading http://yann.lecun.com/exdb/mnist/train-images-idx3-ubyte.gz\n",
      "Downloading http://yann.lecun.com/exdb/mnist/train-images-idx3-ubyte.gz to ./data/MNIST/MNIST/raw/train-images-idx3-ubyte.gz\n",
      "100% 9912422/9912422 [00:00<00:00, 125878290.70it/s]\n",
      "Extracting ./data/MNIST/MNIST/raw/train-images-idx3-ubyte.gz to ./data/MNIST/MNIST/raw\n",
      "\n",
      "Downloading http://yann.lecun.com/exdb/mnist/train-labels-idx1-ubyte.gz\n",
      "Downloading http://yann.lecun.com/exdb/mnist/train-labels-idx1-ubyte.gz to ./data/MNIST/MNIST/raw/train-labels-idx1-ubyte.gz\n",
      "100% 28881/28881 [00:00<00:00, 187516553.91it/s]\n",
      "Extracting ./data/MNIST/MNIST/raw/train-labels-idx1-ubyte.gz to ./data/MNIST/MNIST/raw\n",
      "\n",
      "Downloading http://yann.lecun.com/exdb/mnist/t10k-images-idx3-ubyte.gz\n",
      "Downloading http://yann.lecun.com/exdb/mnist/t10k-images-idx3-ubyte.gz to ./data/MNIST/MNIST/raw/t10k-images-idx3-ubyte.gz\n",
      "100% 1648877/1648877 [00:00<00:00, 36667487.03it/s]\n",
      "Extracting ./data/MNIST/MNIST/raw/t10k-images-idx3-ubyte.gz to ./data/MNIST/MNIST/raw\n",
      "\n",
      "Downloading http://yann.lecun.com/exdb/mnist/t10k-labels-idx1-ubyte.gz\n",
      "Downloading http://yann.lecun.com/exdb/mnist/t10k-labels-idx1-ubyte.gz to ./data/MNIST/MNIST/raw/t10k-labels-idx1-ubyte.gz\n",
      "100% 4542/4542 [00:00<00:00, 37280878.22it/s]\n",
      "Extracting ./data/MNIST/MNIST/raw/t10k-labels-idx1-ubyte.gz to ./data/MNIST/MNIST/raw\n",
      "\n",
      "number of labeled pool: 10000\n",
      "number of unlabeled pool: 30000\n",
      "number of testing pool: 10000\n",
      "\n",
      "Round 0\n",
      "100%|███████████████████████████████████████████████████████████████| 10/10 [00:39<00:00,  3.97s/it]\n",
      "Round 0 testing accuracy: 0.9559\n",
      "Round 1\n",
      "100%|███████████████████████████████████████████████████████████████| 10/10 [00:38<00:00,  3.82s/it]\n",
      "Round 1 testing accuracy: 0.9573\n",
      "Round 2\n",
      "100%|███████████████████████████████████████████████████████████████| 10/10 [00:42<00:00,  4.22s/it]\n",
      "Round 2 testing accuracy: 0.9639\n",
      "Round 3\n",
      "100%|███████████████████████████████████████████████████████████████| 10/10 [00:44<00:00,  4.47s/it]\n",
      "Round 3 testing accuracy: 0.9614\n",
      "Round 4\n",
      "100%|███████████████████████████████████████████████████████████████| 10/10 [00:47<00:00,  4.79s/it]\n",
      "Round 4 testing accuracy: 0.9665\n",
      "Round 5\n",
      "100%|███████████████████████████████████████████████████████████████| 10/10 [00:51<00:00,  5.11s/it]\n",
      "Round 5 testing accuracy: 0.9671\n",
      "Round 6\n",
      "100%|███████████████████████████████████████████████████████████████| 10/10 [00:54<00:00,  5.43s/it]\n",
      "Round 6 testing accuracy: 0.9682\n",
      "Round 7\n",
      "100%|███████████████████████████████████████████████████████████████| 10/10 [00:57<00:00,  5.80s/it]\n",
      "Round 7 testing accuracy: 0.9706\n",
      "Round 8\n",
      "100%|███████████████████████████████████████████████████████████████| 10/10 [01:01<00:00,  6.20s/it]\n",
      "Round 8 testing accuracy: 0.9682\n",
      "Round 9\n",
      "100%|███████████████████████████████████████████████████████████████| 10/10 [01:04<00:00,  6.49s/it]\n",
      "Round 9 testing accuracy: 0.9745\n",
      "Round 10\n",
      "100%|███████████████████████████████████████████████████████████████| 10/10 [01:07<00:00,  6.80s/it]\n",
      "Round 10 testing accuracy: 0.9708\n"
     ]
    }
   ],
   "source": [
    "!python demo.py \\\n",
    "      --n_round 10 \\\n",
    "      --n_query 1000 \\\n",
    "      --n_init_labeled 10000 \\\n",
    "      --dataset_name MNIST \\\n",
    "      --strategy_name RandomSampling \\\n",
    "      --seed 1"
   ]
  },
  {
   "cell_type": "code",
   "execution_count": null,
   "metadata": {
    "colab": {
     "background_save": true,
     "base_uri": "https://localhost:8080/"
    },
    "id": "8pKfKVAFu5Pp",
    "outputId": "5b2ac615-8b02-4e5a-9838-baa80a5171c0"
   },
   "outputs": [
    {
     "name": "stdout",
     "output_type": "stream",
     "text": [
      "{'dataset_name': 'CIFAR10',\n",
      " 'n_init_labeled': 10000,\n",
      " 'n_query': 1000,\n",
      " 'n_round': 10,\n",
      " 'seed': 1,\n",
      " 'strategy_name': 'RandomSampling'}\n",
      "\n",
      "Downloading https://www.cs.toronto.edu/~kriz/cifar-10-python.tar.gz to ./data/CIFAR10/cifar-10-python.tar.gz\n",
      "100% 170498071/170498071 [00:03<00:00, 49252500.22it/s]\n",
      "Extracting ./data/CIFAR10/cifar-10-python.tar.gz to ./data/CIFAR10\n",
      "Files already downloaded and verified\n",
      "number of labeled pool: 10000\n",
      "number of unlabeled pool: 30000\n",
      "number of testing pool: 10000\n",
      "\n",
      "Round 0\n",
      "100%|███████████████████████████████████████████████████████████████| 20/20 [01:27<00:00,  4.37s/it]\n",
      "Round 0 testing accuracy: 0.5265\n",
      "Round 1\n",
      "100%|███████████████████████████████████████████████████████████████| 20/20 [01:34<00:00,  4.71s/it]\n",
      "Round 1 testing accuracy: 0.5739\n",
      "Round 2\n",
      "100%|███████████████████████████████████████████████████████████████| 20/20 [01:43<00:00,  5.17s/it]\n",
      "Round 2 testing accuracy: 0.5443\n",
      "Round 3\n",
      "100%|███████████████████████████████████████████████████████████████| 20/20 [01:52<00:00,  5.60s/it]\n",
      "Round 3 testing accuracy: 0.5425\n",
      "Round 4\n",
      "100%|███████████████████████████████████████████████████████████████| 20/20 [02:00<00:00,  6.03s/it]\n",
      "Round 4 testing accuracy: 0.6117\n",
      "Round 5\n",
      "100%|███████████████████████████████████████████████████████████████| 20/20 [02:08<00:00,  6.42s/it]\n",
      "Round 5 testing accuracy: 0.6139\n",
      "Round 6\n",
      "100%|███████████████████████████████████████████████████████████████| 20/20 [02:15<00:00,  6.79s/it]\n",
      "Round 6 testing accuracy: 0.6281\n",
      "Round 7\n",
      "100%|███████████████████████████████████████████████████████████████| 20/20 [02:24<00:00,  7.22s/it]\n",
      "Round 7 testing accuracy: 0.6118\n",
      "Round 8\n",
      "100%|███████████████████████████████████████████████████████████████| 20/20 [02:32<00:00,  7.61s/it]\n",
      "Round 8 testing accuracy: 0.6384\n",
      "Round 9\n",
      "100%|███████████████████████████████████████████████████████████████| 20/20 [02:40<00:00,  8.03s/it]\n",
      "Round 9 testing accuracy: 0.6339\n",
      "Round 10\n",
      "100%|███████████████████████████████████████████████████████████████| 20/20 [02:48<00:00,  8.41s/it]\n",
      "Round 10 testing accuracy: 0.6426\n"
     ]
    }
   ],
   "source": [
    "!python demo.py \\\n",
    "      --n_round 10 \\\n",
    "      --n_query 1000 \\\n",
    "      --n_init_labeled 10000 \\\n",
    "      --dataset_name CIFAR10 \\\n",
    "      --strategy_name RandomSampling \\\n",
    "      --seed 1"
   ]
  },
  {
   "cell_type": "markdown",
   "metadata": {
    "id": "EYNbpiTCKhzv"
   },
   "source": [
    "## *LeastConfidence*"
   ]
  },
  {
   "cell_type": "code",
   "execution_count": 3,
   "metadata": {
    "colab": {
     "base_uri": "https://localhost:8080/"
    },
    "id": "yQ7SAryXzdFJ",
    "outputId": "6ad235bf-98c6-40d8-82c1-7eabe791a314"
   },
   "outputs": [
    {
     "name": "stdout",
     "output_type": "stream",
     "text": [
      "{'dataset_name': 'MNIST',\n",
      " 'n_init_labeled': 10000,\n",
      " 'n_query': 1000,\n",
      " 'n_round': 12,\n",
      " 'seed': 1,\n",
      " 'strategy_name': 'LeastConfidence'}\n",
      "\n",
      "Downloading http://yann.lecun.com/exdb/mnist/train-images-idx3-ubyte.gz\n",
      "Downloading http://yann.lecun.com/exdb/mnist/train-images-idx3-ubyte.gz to ./data/MNIST/MNIST/raw/train-images-idx3-ubyte.gz\n",
      "100% 9912422/9912422 [00:00<00:00, 72050088.89it/s]\n",
      "Extracting ./data/MNIST/MNIST/raw/train-images-idx3-ubyte.gz to ./data/MNIST/MNIST/raw\n",
      "\n",
      "Downloading http://yann.lecun.com/exdb/mnist/train-labels-idx1-ubyte.gz\n",
      "Downloading http://yann.lecun.com/exdb/mnist/train-labels-idx1-ubyte.gz to ./data/MNIST/MNIST/raw/train-labels-idx1-ubyte.gz\n",
      "100% 28881/28881 [00:00<00:00, 75662519.57it/s]\n",
      "Extracting ./data/MNIST/MNIST/raw/train-labels-idx1-ubyte.gz to ./data/MNIST/MNIST/raw\n",
      "\n",
      "Downloading http://yann.lecun.com/exdb/mnist/t10k-images-idx3-ubyte.gz\n",
      "Downloading http://yann.lecun.com/exdb/mnist/t10k-images-idx3-ubyte.gz to ./data/MNIST/MNIST/raw/t10k-images-idx3-ubyte.gz\n",
      "100% 1648877/1648877 [00:00<00:00, 27232207.42it/s]\n",
      "Extracting ./data/MNIST/MNIST/raw/t10k-images-idx3-ubyte.gz to ./data/MNIST/MNIST/raw\n",
      "\n",
      "Downloading http://yann.lecun.com/exdb/mnist/t10k-labels-idx1-ubyte.gz\n",
      "Downloading http://yann.lecun.com/exdb/mnist/t10k-labels-idx1-ubyte.gz to ./data/MNIST/MNIST/raw/t10k-labels-idx1-ubyte.gz\n",
      "100% 4542/4542 [00:00<00:00, 27933326.64it/s]\n",
      "Extracting ./data/MNIST/MNIST/raw/t10k-labels-idx1-ubyte.gz to ./data/MNIST/MNIST/raw\n",
      "\n",
      "number of labeled pool: 10000\n",
      "number of unlabeled pool: 30000\n",
      "number of testing pool: 10000\n",
      "\n",
      "Round 0\n",
      "100%|███████████████████████████████████████████████████████████████| 10/10 [00:40<00:00,  4.09s/it]\n",
      "Round 0 testing accuracy: 0.9559\n",
      "Round 1\n",
      "100%|███████████████████████████████████████████████████████████████| 10/10 [00:40<00:00,  4.06s/it]\n",
      "Round 1 testing accuracy: 0.965\n",
      "Round 2\n",
      "100%|███████████████████████████████████████████████████████████████| 10/10 [00:44<00:00,  4.43s/it]\n",
      "Round 2 testing accuracy: 0.9704\n",
      "Round 3\n",
      "100%|███████████████████████████████████████████████████████████████| 10/10 [00:50<00:00,  5.02s/it]\n",
      "Round 3 testing accuracy: 0.9723\n",
      "Round 4\n",
      "100%|███████████████████████████████████████████████████████████████| 10/10 [00:53<00:00,  5.36s/it]\n",
      "Round 4 testing accuracy: 0.9779\n",
      "Round 5\n",
      "100%|███████████████████████████████████████████████████████████████| 10/10 [00:58<00:00,  5.82s/it]\n",
      "Round 5 testing accuracy: 0.976\n",
      "Round 6\n",
      "100%|███████████████████████████████████████████████████████████████| 10/10 [01:00<00:00,  6.02s/it]\n",
      "Round 6 testing accuracy: 0.9788\n",
      "Round 7\n",
      "100%|███████████████████████████████████████████████████████████████| 10/10 [01:04<00:00,  6.42s/it]\n",
      "Round 7 testing accuracy: 0.9803\n",
      "Round 8\n",
      "100%|███████████████████████████████████████████████████████████████| 10/10 [01:07<00:00,  6.78s/it]\n",
      "Round 8 testing accuracy: 0.9757\n",
      "Round 9\n",
      "100%|███████████████████████████████████████████████████████████████| 10/10 [01:12<00:00,  7.24s/it]\n",
      "Round 9 testing accuracy: 0.9774\n",
      "Round 10\n",
      "100%|███████████████████████████████████████████████████████████████| 10/10 [01:15<00:00,  7.54s/it]\n",
      "Round 10 testing accuracy: 0.9789\n",
      "Round 11\n",
      "100%|███████████████████████████████████████████████████████████████| 10/10 [01:19<00:00,  7.92s/it]\n",
      "Round 11 testing accuracy: 0.9787\n",
      "Round 12\n",
      "100%|███████████████████████████████████████████████████████████████| 10/10 [01:21<00:00,  8.20s/it]\n",
      "Round 12 testing accuracy: 0.9812\n"
     ]
    }
   ],
   "source": [
    "!python demo.py \\\n",
    "      --n_round 12 \\\n",
    "      --n_query 1000 \\\n",
    "      --n_init_labeled 10000 \\\n",
    "      --dataset_name MNIST \\\n",
    "      --strategy_name LeastConfidence \\\n",
    "      --seed 1"
   ]
  },
  {
   "cell_type": "code",
   "execution_count": 5,
   "metadata": {
    "colab": {
     "base_uri": "https://localhost:8080/"
    },
    "id": "nl4U_yRQKIwv",
    "outputId": "44689a65-c4c3-4882-e210-8a55bbba7087"
   },
   "outputs": [
    {
     "name": "stdout",
     "output_type": "stream",
     "text": [
      "{'dataset_name': 'CIFAR10',\n",
      " 'n_init_labeled': 10000,\n",
      " 'n_query': 1000,\n",
      " 'n_round': 10,\n",
      " 'seed': 1,\n",
      " 'strategy_name': 'LeastConfidence'}\n",
      "\n",
      "Files already downloaded and verified\n",
      "Files already downloaded and verified\n",
      "number of labeled pool: 10000\n",
      "number of unlabeled pool: 30000\n",
      "number of testing pool: 10000\n",
      "\n",
      "Round 0\n",
      "100%|███████████████████████████████████████████████████████████████| 20/20 [01:34<00:00,  4.72s/it]\n",
      "Round 0 testing accuracy: 0.5265\n",
      "Round 1\n",
      "100%|███████████████████████████████████████████████████████████████| 20/20 [01:43<00:00,  5.18s/it]\n",
      "Round 1 testing accuracy: 0.5627\n",
      "Round 2\n",
      "100%|███████████████████████████████████████████████████████████████| 20/20 [01:52<00:00,  5.63s/it]\n",
      "Round 2 testing accuracy: 0.5994\n",
      "Round 3\n",
      "100%|███████████████████████████████████████████████████████████████| 20/20 [02:02<00:00,  6.12s/it]\n",
      "Round 3 testing accuracy: 0.5393\n",
      "Round 4\n",
      "100%|███████████████████████████████████████████████████████████████| 20/20 [02:10<00:00,  6.52s/it]\n",
      "Round 4 testing accuracy: 0.5423\n",
      "Round 5\n",
      "100%|███████████████████████████████████████████████████████████████| 20/20 [02:19<00:00,  6.99s/it]\n",
      "Round 5 testing accuracy: 0.603\n",
      "Round 6\n",
      "100%|███████████████████████████████████████████████████████████████| 20/20 [02:27<00:00,  7.38s/it]\n",
      "Round 6 testing accuracy: 0.6039\n",
      "Round 7\n",
      "100%|███████████████████████████████████████████████████████████████| 20/20 [02:36<00:00,  7.83s/it]\n",
      "Round 7 testing accuracy: 0.6127\n",
      "Round 8\n",
      "100%|███████████████████████████████████████████████████████████████| 20/20 [02:44<00:00,  8.22s/it]\n",
      "Round 8 testing accuracy: 0.633\n",
      "Round 9\n",
      "100%|███████████████████████████████████████████████████████████████| 20/20 [02:56<00:00,  8.82s/it]\n",
      "Round 9 testing accuracy: 0.6358\n",
      "Round 10\n",
      "100%|███████████████████████████████████████████████████████████████| 20/20 [03:07<00:00,  9.38s/it]\n",
      "Round 10 testing accuracy: 0.6361\n"
     ]
    }
   ],
   "source": [
    "!python demo.py \\\n",
    "      --n_round 10 \\\n",
    "      --n_query 1000 \\\n",
    "      --n_init_labeled 10000 \\\n",
    "      --dataset_name CIFAR10 \\\n",
    "      --strategy_name LeastConfidence \\\n",
    "      --seed 1"
   ]
  },
  {
   "cell_type": "markdown",
   "metadata": {
    "id": "PONdu8ZVPB6a"
   },
   "source": [
    "## *MarginSampling*"
   ]
  },
  {
   "cell_type": "code",
   "execution_count": 8,
   "metadata": {
    "colab": {
     "base_uri": "https://localhost:8080/"
    },
    "id": "_ImrO9RYPP7P",
    "outputId": "15c4bb74-1569-4082-cea8-1f7021630507"
   },
   "outputs": [
    {
     "name": "stdout",
     "output_type": "stream",
     "text": [
      "{'dataset_name': 'MNIST',\n",
      " 'n_init_labeled': 10000,\n",
      " 'n_query': 1000,\n",
      " 'n_round': 15,\n",
      " 'seed': 1,\n",
      " 'strategy_name': 'MarginSampling'}\n",
      "\n",
      "number of labeled pool: 10000\n",
      "number of unlabeled pool: 30000\n",
      "number of testing pool: 10000\n",
      "\n",
      "Round 0\n",
      "100%|███████████████████████████████████████████████████████████████| 10/10 [00:36<00:00,  3.64s/it]\n",
      "Round 0 testing accuracy: 0.9559\n",
      "Round 1\n",
      "100%|███████████████████████████████████████████████████████████████| 10/10 [00:40<00:00,  4.05s/it]\n",
      "Round 1 testing accuracy: 0.9658\n",
      "Round 2\n",
      "100%|███████████████████████████████████████████████████████████████| 10/10 [00:43<00:00,  4.33s/it]\n",
      "Round 2 testing accuracy: 0.9676\n",
      "Round 3\n",
      "100%|███████████████████████████████████████████████████████████████| 10/10 [00:47<00:00,  4.74s/it]\n",
      "Round 3 testing accuracy: 0.9724\n",
      "Round 4\n",
      "100%|███████████████████████████████████████████████████████████████| 10/10 [00:49<00:00,  4.97s/it]\n",
      "Round 4 testing accuracy: 0.9767\n",
      "Round 5\n",
      "100%|███████████████████████████████████████████████████████████████| 10/10 [00:53<00:00,  5.31s/it]\n",
      "Round 5 testing accuracy: 0.9773\n",
      "Round 6\n",
      "100%|███████████████████████████████████████████████████████████████| 10/10 [00:54<00:00,  5.40s/it]\n",
      "Round 6 testing accuracy: 0.9786\n",
      "Round 7\n",
      "100%|███████████████████████████████████████████████████████████████| 10/10 [00:57<00:00,  5.71s/it]\n",
      "Round 7 testing accuracy: 0.9794\n",
      "Round 8\n",
      "100%|███████████████████████████████████████████████████████████████| 10/10 [01:01<00:00,  6.15s/it]\n",
      "Round 8 testing accuracy: 0.9768\n",
      "Round 9\n",
      "100%|███████████████████████████████████████████████████████████████| 10/10 [01:05<00:00,  6.54s/it]\n",
      "Round 9 testing accuracy: 0.9783\n",
      "Round 10\n",
      "100%|███████████████████████████████████████████████████████████████| 10/10 [01:09<00:00,  6.92s/it]\n",
      "Round 10 testing accuracy: 0.9788\n",
      "Round 11\n",
      "100%|███████████████████████████████████████████████████████████████| 10/10 [01:12<00:00,  7.29s/it]\n",
      "Round 11 testing accuracy: 0.9789\n",
      "Round 12\n",
      "100%|███████████████████████████████████████████████████████████████| 10/10 [01:16<00:00,  7.60s/it]\n",
      "Round 12 testing accuracy: 0.9826\n",
      "Round 13\n",
      "100%|███████████████████████████████████████████████████████████████| 10/10 [01:18<00:00,  7.89s/it]\n",
      "Round 13 testing accuracy: 0.9806\n",
      "Round 14\n",
      "100%|███████████████████████████████████████████████████████████████| 10/10 [01:22<00:00,  8.20s/it]\n",
      "Round 14 testing accuracy: 0.9802\n",
      "Round 15\n",
      "100%|███████████████████████████████████████████████████████████████| 10/10 [01:25<00:00,  8.51s/it]\n",
      "Round 15 testing accuracy: 0.98\n"
     ]
    }
   ],
   "source": [
    "!python demo.py \\\n",
    "      --n_round 15 \\\n",
    "      --n_query 1000 \\\n",
    "      --n_init_labeled 10000 \\\n",
    "      --dataset_name MNIST \\\n",
    "      --strategy_name MarginSampling \\\n",
    "      --seed 1"
   ]
  },
  {
   "cell_type": "code",
   "execution_count": 9,
   "metadata": {
    "colab": {
     "base_uri": "https://localhost:8080/"
    },
    "id": "Gzv-RbMBPGT9",
    "outputId": "9d8594c7-3c28-43d3-be8c-2a3106e9fee4"
   },
   "outputs": [
    {
     "name": "stdout",
     "output_type": "stream",
     "text": [
      "{'dataset_name': 'CIFAR10',\n",
      " 'n_init_labeled': 10000,\n",
      " 'n_query': 1000,\n",
      " 'n_round': 10,\n",
      " 'seed': 1,\n",
      " 'strategy_name': 'MarginSampling'}\n",
      "\n",
      "Files already downloaded and verified\n",
      "Files already downloaded and verified\n",
      "number of labeled pool: 10000\n",
      "number of unlabeled pool: 30000\n",
      "number of testing pool: 10000\n",
      "\n",
      "Round 0\n",
      "100%|███████████████████████████████████████████████████████████████| 20/20 [01:27<00:00,  4.36s/it]\n",
      "Round 0 testing accuracy: 0.5265\n",
      "Round 1\n",
      "100%|███████████████████████████████████████████████████████████████| 20/20 [01:35<00:00,  4.75s/it]\n",
      "Round 1 testing accuracy: 0.6028\n",
      "Round 2\n",
      "100%|███████████████████████████████████████████████████████████████| 20/20 [01:45<00:00,  5.26s/it]\n",
      "Round 2 testing accuracy: 0.5706\n",
      "Round 3\n",
      "100%|███████████████████████████████████████████████████████████████| 20/20 [01:53<00:00,  5.65s/it]\n",
      "Round 3 testing accuracy: 0.5125\n",
      "Round 4\n",
      "100%|███████████████████████████████████████████████████████████████| 20/20 [02:01<00:00,  6.07s/it]\n",
      "Round 4 testing accuracy: 0.612\n",
      "Round 5\n",
      "100%|███████████████████████████████████████████████████████████████| 20/20 [02:11<00:00,  6.56s/it]\n",
      "Round 5 testing accuracy: 0.6097\n",
      "Round 6\n",
      "100%|███████████████████████████████████████████████████████████████| 20/20 [02:17<00:00,  6.85s/it]\n",
      "Round 6 testing accuracy: 0.6122\n",
      "Round 7\n",
      "100%|███████████████████████████████████████████████████████████████| 20/20 [02:26<00:00,  7.31s/it]\n",
      "Round 7 testing accuracy: 0.6006\n",
      "Round 8\n",
      "100%|███████████████████████████████████████████████████████████████| 20/20 [02:34<00:00,  7.70s/it]\n",
      "Round 8 testing accuracy: 0.6059\n",
      "Round 9\n",
      "100%|███████████████████████████████████████████████████████████████| 20/20 [02:43<00:00,  8.17s/it]\n",
      "Round 9 testing accuracy: 0.6349\n",
      "Round 10\n",
      "100%|███████████████████████████████████████████████████████████████| 20/20 [02:48<00:00,  8.45s/it]\n",
      "Round 10 testing accuracy: 0.6359\n"
     ]
    }
   ],
   "source": [
    "!python demo.py \\\n",
    "      --n_round 10 \\\n",
    "      --n_query 1000 \\\n",
    "      --n_init_labeled 10000 \\\n",
    "      --dataset_name CIFAR10 \\\n",
    "      --strategy_name MarginSampling \\\n",
    "      --seed 1"
   ]
  },
  {
   "cell_type": "markdown",
   "metadata": {
    "id": "fRi1Dd0wPoPl"
   },
   "source": [
    "## *EntropySampling*"
   ]
  },
  {
   "cell_type": "code",
   "execution_count": 10,
   "metadata": {
    "colab": {
     "base_uri": "https://localhost:8080/"
    },
    "id": "3rAP0ZkG9xr2",
    "outputId": "5f96be48-1d5f-41fb-be54-bec79274fe16"
   },
   "outputs": [
    {
     "name": "stdout",
     "output_type": "stream",
     "text": [
      "{'dataset_name': 'MNIST',\n",
      " 'n_init_labeled': 10000,\n",
      " 'n_query': 1000,\n",
      " 'n_round': 15,\n",
      " 'seed': 1,\n",
      " 'strategy_name': 'EntropySampling'}\n",
      "\n",
      "number of labeled pool: 10000\n",
      "number of unlabeled pool: 30000\n",
      "number of testing pool: 10000\n",
      "\n",
      "Round 0\n",
      "100%|███████████████████████████████████████████████████████████████| 10/10 [00:37<00:00,  3.77s/it]\n",
      "Round 0 testing accuracy: 0.9559\n",
      "Round 1\n",
      "100%|███████████████████████████████████████████████████████████████| 10/10 [00:37<00:00,  3.76s/it]\n",
      "Round 1 testing accuracy: 0.9668\n",
      "Round 2\n",
      "100%|███████████████████████████████████████████████████████████████| 10/10 [00:40<00:00,  4.07s/it]\n",
      "Round 2 testing accuracy: 0.9682\n",
      "Round 3\n",
      "100%|███████████████████████████████████████████████████████████████| 10/10 [00:49<00:00,  4.94s/it]\n",
      "Round 3 testing accuracy: 0.9726\n",
      "Round 4\n",
      "100%|███████████████████████████████████████████████████████████████| 10/10 [00:50<00:00,  5.01s/it]\n",
      "Round 4 testing accuracy: 0.9761\n",
      "Round 5\n",
      "100%|███████████████████████████████████████████████████████████████| 10/10 [00:57<00:00,  5.76s/it]\n",
      "Round 5 testing accuracy: 0.9774\n",
      "Round 6\n",
      "100%|███████████████████████████████████████████████████████████████| 10/10 [00:53<00:00,  5.38s/it]\n",
      "Round 6 testing accuracy: 0.9782\n",
      "Round 7\n",
      "100%|███████████████████████████████████████████████████████████████| 10/10 [00:57<00:00,  5.78s/it]\n",
      "Round 7 testing accuracy: 0.9787\n",
      "Round 8\n",
      "100%|███████████████████████████████████████████████████████████████| 10/10 [01:01<00:00,  6.16s/it]\n",
      "Round 8 testing accuracy: 0.9758\n",
      "Round 9\n",
      "100%|███████████████████████████████████████████████████████████████| 10/10 [01:05<00:00,  6.52s/it]\n",
      "Round 9 testing accuracy: 0.9798\n",
      "Round 10\n",
      "100%|███████████████████████████████████████████████████████████████| 10/10 [01:08<00:00,  6.81s/it]\n",
      "Round 10 testing accuracy: 0.9794\n",
      "Round 11\n",
      "100%|███████████████████████████████████████████████████████████████| 10/10 [01:10<00:00,  7.07s/it]\n",
      "Round 11 testing accuracy: 0.9788\n",
      "Round 12\n",
      "100%|███████████████████████████████████████████████████████████████| 10/10 [01:14<00:00,  7.44s/it]\n",
      "Round 12 testing accuracy: 0.9833\n",
      "Round 13\n",
      "100%|███████████████████████████████████████████████████████████████| 10/10 [01:17<00:00,  7.78s/it]\n",
      "Round 13 testing accuracy: 0.9793\n",
      "Round 14\n",
      "100%|███████████████████████████████████████████████████████████████| 10/10 [01:21<00:00,  8.12s/it]\n",
      "Round 14 testing accuracy: 0.979\n",
      "Round 15\n",
      "100%|███████████████████████████████████████████████████████████████| 10/10 [01:24<00:00,  8.41s/it]\n",
      "Round 15 testing accuracy: 0.9798\n"
     ]
    }
   ],
   "source": [
    "!python demo.py \\\n",
    "      --n_round 15 \\\n",
    "      --n_query 1000 \\\n",
    "      --n_init_labeled 10000 \\\n",
    "      --dataset_name MNIST \\\n",
    "      --strategy_name EntropySampling \\\n",
    "      --seed 1"
   ]
  },
  {
   "cell_type": "code",
   "execution_count": 4,
   "metadata": {
    "colab": {
     "base_uri": "https://localhost:8080/"
    },
    "id": "_WZzUoyu943c",
    "outputId": "28461484-7ca8-4d90-d80d-36cf3b0bc058"
   },
   "outputs": [
    {
     "name": "stdout",
     "output_type": "stream",
     "text": [
      "{'dataset_name': 'CIFAR10',\n",
      " 'n_init_labeled': 10000,\n",
      " 'n_query': 1000,\n",
      " 'n_round': 10,\n",
      " 'seed': 1,\n",
      " 'strategy_name': 'EntropySampling'}\n",
      "\n",
      "Downloading https://www.cs.toronto.edu/~kriz/cifar-10-python.tar.gz to ./data/CIFAR10/cifar-10-python.tar.gz\n",
      "100% 170498071/170498071 [00:13<00:00, 13052922.27it/s]\n",
      "Extracting ./data/CIFAR10/cifar-10-python.tar.gz to ./data/CIFAR10\n",
      "Files already downloaded and verified\n",
      "number of labeled pool: 10000\n",
      "number of unlabeled pool: 30000\n",
      "number of testing pool: 10000\n",
      "\n",
      "Round 0\n",
      "100%|███████████████████████████████████████████████████████████████| 20/20 [01:28<00:00,  4.44s/it]\n",
      "Round 0 testing accuracy: 0.5265\n",
      "Round 1\n",
      "100%|███████████████████████████████████████████████████████████████| 20/20 [01:34<00:00,  4.72s/it]\n",
      "Round 1 testing accuracy: 0.5954\n",
      "Round 2\n",
      "100%|███████████████████████████████████████████████████████████████| 20/20 [01:42<00:00,  5.11s/it]\n",
      "Round 2 testing accuracy: 0.5985\n",
      "Round 3\n",
      "100%|███████████████████████████████████████████████████████████████| 20/20 [01:50<00:00,  5.53s/it]\n",
      "Round 3 testing accuracy: 0.5204\n",
      "Round 4\n",
      "100%|███████████████████████████████████████████████████████████████| 20/20 [01:58<00:00,  5.93s/it]\n",
      "Round 4 testing accuracy: 0.6006\n",
      "Round 5\n",
      "100%|███████████████████████████████████████████████████████████████| 20/20 [02:05<00:00,  6.26s/it]\n",
      "Round 5 testing accuracy: 0.6028\n",
      "Round 6\n",
      "100%|███████████████████████████████████████████████████████████████| 20/20 [02:12<00:00,  6.65s/it]\n",
      "Round 6 testing accuracy: 0.6204\n",
      "Round 7\n",
      "100%|███████████████████████████████████████████████████████████████| 20/20 [02:23<00:00,  7.16s/it]\n",
      "Round 7 testing accuracy: 0.6222\n",
      "Round 8\n",
      "100%|███████████████████████████████████████████████████████████████| 20/20 [02:29<00:00,  7.48s/it]\n",
      "Round 8 testing accuracy: 0.5549\n",
      "Round 9\n",
      "100%|███████████████████████████████████████████████████████████████| 20/20 [02:38<00:00,  7.91s/it]\n",
      "Round 9 testing accuracy: 0.6271\n",
      "Round 10\n",
      "100%|███████████████████████████████████████████████████████████████| 20/20 [02:45<00:00,  8.30s/it]\n",
      "Round 10 testing accuracy: 0.6067\n"
     ]
    }
   ],
   "source": [
    "!python demo.py \\\n",
    "      --n_round 10 \\\n",
    "      --n_query 1000 \\\n",
    "      --n_init_labeled 10000 \\\n",
    "      --dataset_name CIFAR10 \\\n",
    "      --strategy_name EntropySampling \\\n",
    "      --seed 1"
   ]
  },
  {
   "cell_type": "code",
   "execution_count": null,
   "metadata": {
    "id": "A53S0SSPas8U"
   },
   "outputs": [],
   "source": []
  }
 ],
 "metadata": {
  "accelerator": "GPU",
  "colab": {
   "collapsed_sections": [
    "Fu8ohHijKnpI",
    "EYNbpiTCKhzv"
   ],
   "provenance": []
  },
  "gpuClass": "standard",
  "kernelspec": {
   "display_name": "Python 3 (ipykernel)",
   "language": "python",
   "name": "python3"
  },
  "language_info": {
   "codemirror_mode": {
    "name": "ipython",
    "version": 3
   },
   "file_extension": ".py",
   "mimetype": "text/x-python",
   "name": "python",
   "nbconvert_exporter": "python",
   "pygments_lexer": "ipython3",
   "version": "3.10.5"
  }
 },
 "nbformat": 4,
 "nbformat_minor": 1
}
