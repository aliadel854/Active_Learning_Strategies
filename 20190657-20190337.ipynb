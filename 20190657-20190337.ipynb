{
 "cells": [
  {
   "cell_type": "code",
   "execution_count": 1,
   "id": "9487441c",
   "metadata": {},
   "outputs": [],
   "source": [
    "import numpy as np\n",
    "import matplotlib.pyplot as plt\n",
    "from sklearn.decomposition import PCA\n",
    "from sklearn.datasets import load_iris\n",
    "from sklearn.neighbors import KNeighborsClassifier\n",
    "from modAL.models import ActiveLearner\n",
    "from sklearn.utils import shuffle\n",
    "from copy import deepcopy\n",
    "from sklearn.metrics import accuracy_score\n",
    "from sklearn.model_selection import train_test_split\n",
    "import numpy as np\n",
    "from sklearn.ensemble import RandomForestClassifier\n",
    "from modAL.uncertainty import uncertainty_sampling, margin_sampling, entropy_sampling, classifier_uncertainty, classifier_margin"
   ]
  },
  {
   "cell_type": "markdown",
   "id": "bed0d0f6",
   "metadata": {},
   "source": [
    "# Iris dataset"
   ]
  },
  {
   "cell_type": "code",
   "execution_count": 2,
   "id": "d2ae7c28",
   "metadata": {},
   "outputs": [],
   "source": [
    "# loading the iris dataset\n",
    "iris = load_iris()"
   ]
  },
  {
   "cell_type": "code",
   "execution_count": 3,
   "id": "218bbb1c",
   "metadata": {},
   "outputs": [],
   "source": [
    "X_raw = iris['data']\n",
    "y_raw = iris['target']"
   ]
  },
  {
   "cell_type": "code",
   "execution_count": 4,
   "id": "0aca426a",
   "metadata": {},
   "outputs": [],
   "source": [
    "# print(X_raw, \"\\n\", y_raw)"
   ]
  },
  {
   "cell_type": "code",
   "execution_count": 5,
   "id": "a44842e1",
   "metadata": {},
   "outputs": [],
   "source": [
    "X_train,X_test,y_train,y_test=train_test_split(X_raw,y_raw,test_size=0.1, random_state=42,shuffle=True)\n",
    "X_train,X_val,y_train,y_val=train_test_split(X_train,y_train,test_size=0.4, random_state=42,shuffle=True)"
   ]
  },
  {
   "cell_type": "code",
   "execution_count": 6,
   "id": "c1296b62",
   "metadata": {},
   "outputs": [],
   "source": [
    "# Isolate our examples for our labeled dataset.\n",
    "n_labeled_examples = X_raw.shape[0]\n",
    "training_indices = np.random.randint(low=0, high=n_labeled_examples + 1, size=3)\n",
    "\n",
    "# X_train = X_raw[training_indices]\n",
    "# y_train = y_raw[training_indices]\n",
    "\n",
    "\n",
    "X_pool = deepcopy(X_val)\n",
    "y_pool = deepcopy(y_val)\n",
    "# Isolate the non-training examples we'll be querying.\n",
    "# X_pool = np.delete(X_raw, training_indices, axis=0)\n",
    "# y_pool = np.delete(y_raw, training_indices, axis=0)"
   ]
  },
  {
   "cell_type": "markdown",
   "id": "59805f7c",
   "metadata": {},
   "source": [
    "# Random_Sampling"
   ]
  },
  {
   "cell_type": "code",
   "execution_count": 7,
   "id": "66a854fb",
   "metadata": {},
   "outputs": [],
   "source": [
    "def random_sampling(classifier, X_pool):\n",
    "    n_samples = len(X_pool)\n",
    "    query_idx = np.random.choice(range(n_samples))\n",
    "    return query_idx, X_pool[query_idx] \n",
    "\n",
    "learner = ActiveLearner(\n",
    "    estimator=RandomForestClassifier(),\n",
    "    query_strategy=random_sampling,\n",
    "    X_training=X_train, y_training=y_train\n",
    ")"
   ]
  },
  {
   "cell_type": "code",
   "execution_count": 8,
   "id": "0e6153c9",
   "metadata": {},
   "outputs": [
    {
     "name": "stdout",
     "output_type": "stream",
     "text": [
      "0.98\n"
     ]
    }
   ],
   "source": [
    "y_predict = learner.predict(X_raw)\n",
    "print(accuracy_score(y_predict , y_raw))"
   ]
  },
  {
   "cell_type": "code",
   "execution_count": 9,
   "id": "d982023e",
   "metadata": {},
   "outputs": [
    {
     "data": {
      "text/plain": [
       "numpy.ndarray"
      ]
     },
     "execution_count": 9,
     "metadata": {},
     "output_type": "execute_result"
    }
   ],
   "source": [
    "type(X_train)"
   ]
  },
  {
   "cell_type": "code",
   "execution_count": 10,
   "id": "1dd5d717",
   "metadata": {},
   "outputs": [
    {
     "name": "stdout",
     "output_type": "stream",
     "text": [
      "1.0\n"
     ]
    }
   ],
   "source": [
    "print(learner.score(X_train , y_train))"
   ]
  },
  {
   "cell_type": "code",
   "execution_count": 11,
   "id": "e04a0bf5",
   "metadata": {},
   "outputs": [
    {
     "data": {
      "text/plain": [
       "54"
      ]
     },
     "execution_count": 11,
     "metadata": {},
     "output_type": "execute_result"
    }
   ],
   "source": [
    "X_pool.shape[0]"
   ]
  },
  {
   "cell_type": "code",
   "execution_count": 12,
   "id": "3ced393d",
   "metadata": {},
   "outputs": [],
   "source": [
    "unqueried_score = learner.score(X_raw, y_raw)"
   ]
  },
  {
   "cell_type": "code",
   "execution_count": 13,
   "id": "d0fcdfa2",
   "metadata": {},
   "outputs": [
    {
     "name": "stdout",
     "output_type": "stream",
     "text": [
      "1.0\n",
      "Test Accuracy after query 1: 0.9800\n",
      "1.0\n",
      "Test Accuracy after query 2: 0.9800\n",
      "1.0\n",
      "Test Accuracy after query 3: 0.9800\n",
      "1.0\n",
      "Test Accuracy after query 4: 0.9800\n",
      "1.0\n",
      "Test Accuracy after query 5: 0.9800\n",
      "1.0\n",
      "Test Accuracy after query 6: 0.9800\n",
      "1.0\n",
      "Test Accuracy after query 7: 0.9800\n",
      "1.0\n",
      "Test Accuracy after query 8: 0.9800\n",
      "1.0\n",
      "Test Accuracy after query 9: 0.9800\n",
      "1.0\n",
      "Test Accuracy after query 10: 0.9800\n",
      "1.0\n",
      "Test Accuracy after query 11: 0.9800\n",
      "1.0\n",
      "Test Accuracy after query 12: 0.9800\n",
      "1.0\n",
      "Test Accuracy after query 13: 0.9800\n",
      "1.0\n",
      "Test Accuracy after query 14: 0.9800\n",
      "1.0\n",
      "Test Accuracy after query 15: 0.9800\n",
      "1.0\n",
      "Test Accuracy after query 16: 0.9800\n",
      "1.0\n",
      "Test Accuracy after query 17: 0.9800\n",
      "1.0\n",
      "Test Accuracy after query 18: 0.9800\n",
      "1.0\n",
      "Test Accuracy after query 19: 0.9800\n",
      "1.0\n",
      "Test Accuracy after query 20: 0.9800\n",
      "1.0\n",
      "Test Accuracy after query 21: 0.9800\n",
      "1.0\n",
      "Test Accuracy after query 22: 0.9800\n",
      "1.0\n",
      "Test Accuracy after query 23: 0.9800\n",
      "1.0\n",
      "Test Accuracy after query 24: 0.9800\n",
      "1.0\n",
      "Test Accuracy after query 25: 0.9800\n",
      "1.0\n",
      "Test Accuracy after query 26: 0.9800\n",
      "1.0\n",
      "Test Accuracy after query 27: 0.9800\n",
      "1.0\n",
      "Test Accuracy after query 28: 0.9800\n",
      "1.0\n",
      "Test Accuracy after query 29: 0.9800\n",
      "1.0\n",
      "Test Accuracy after query 30: 0.9867\n",
      "1.0\n",
      "Test Accuracy after query 31: 0.9933\n",
      "1.0\n",
      "Test Accuracy after query 32: 0.9933\n",
      "1.0\n",
      "Test Accuracy after query 33: 0.9933\n",
      "1.0\n",
      "Test Accuracy after query 34: 0.9933\n",
      "1.0\n",
      "Test Accuracy after query 35: 0.9933\n",
      "1.0\n",
      "Test Accuracy after query 36: 0.9933\n",
      "1.0\n",
      "Test Accuracy after query 37: 0.9933\n",
      "1.0\n",
      "Test Accuracy after query 38: 0.9933\n",
      "1.0\n",
      "Test Accuracy after query 39: 0.9933\n",
      "1.0\n",
      "Test Accuracy after query 40: 0.9933\n",
      "1.0\n",
      "Test Accuracy after query 41: 0.9933\n",
      "1.0\n",
      "Test Accuracy after query 42: 0.9933\n",
      "1.0\n",
      "Test Accuracy after query 43: 0.9933\n",
      "1.0\n",
      "Test Accuracy after query 44: 0.9933\n",
      "1.0\n",
      "Test Accuracy after query 45: 0.9933\n",
      "1.0\n",
      "Test Accuracy after query 46: 0.9933\n",
      "1.0\n",
      "Test Accuracy after query 47: 0.9933\n",
      "1.0\n",
      "Test Accuracy after query 48: 0.9933\n",
      "1.0\n",
      "Test Accuracy after query 49: 0.9933\n",
      "1.0\n",
      "Test Accuracy after query 50: 0.9933\n",
      "1.0\n",
      "Test Accuracy after query 51: 0.9933\n",
      "1.0\n",
      "Test Accuracy after query 52: 0.9933\n",
      "1.0\n",
      "Test Accuracy after query 53: 0.9933\n",
      "1.0\n",
      "Test Accuracy after query 54: 1.0000\n"
     ]
    }
   ],
   "source": [
    "N_QUERIES = X_pool.shape[0]\n",
    "performance_history = [unqueried_score]\n",
    "\n",
    "\n",
    "# Allow our model to query our unlabeled dataset for the most\n",
    "# informative points according to our query strategy (uncertainty sampling).\n",
    "for index in range(N_QUERIES):\n",
    "    query_index, query_instance = learner.query(X_pool)\n",
    "\n",
    "    # Teach our ActiveLearner model the record it has requested.\n",
    "    X, y = X_pool[query_index].reshape(1, -1), y_pool[query_index].reshape(1, )\n",
    "    learner.teach(X=X, y=y)\n",
    "    print(learner.score(X_train , y_train))\n",
    "\n",
    "\n",
    "#     X_train= np.append(X_train, X)\n",
    "#     y_train= np.append(y_train, y)\n",
    "\n",
    "#     traning_score = learner.score(np.array(X_train_lst) , np.array(y_train_lst))\n",
    "    # Remove the queried instance from the unlabeled pool.\n",
    "    X_pool, y_pool = np.delete(X_pool, query_index, axis=0), np.delete(y_pool, query_index)\n",
    "\n",
    "    # Calculate and report our model's accuracy.\n",
    "    model_accuracy = learner.score(X_raw, y_raw)\n",
    "    print('Test Accuracy after query {n}: {acc:0.4f}'.format(n=index + 1, acc=model_accuracy))\n",
    "#     print('Traning Accuracy after query {n}: {acc:0.4f}'.format(n=index + 1, acc=traning_score))\n",
    "\n",
    "\n",
    "    # Save our model's performance for plotting.\n",
    "    performance_history.append(model_accuracy)"
   ]
  },
  {
   "cell_type": "code",
   "execution_count": 14,
   "id": "a00d0aa9",
   "metadata": {},
   "outputs": [],
   "source": [
    "# Isolate our examples for our labeled dataset.\n",
    "n_labeled_examples = X_raw.shape[0]\n",
    "training_indices = np.random.randint(low=0, high=n_labeled_examples + 1, size=3)\n",
    "\n",
    "X_train = X_raw[training_indices]\n",
    "y_train = y_raw[training_indices]\n",
    "\n",
    "\n",
    "# X_pool = deepcopy(X_val)\n",
    "# y_pool = deepcopy(y_val)\n",
    "# Isolate the non-training examples we'll be querying.\n",
    "X_pool = np.delete(X_raw, training_indices, axis=0)\n",
    "y_pool = np.delete(y_raw, training_indices, axis=0)"
   ]
  },
  {
   "cell_type": "markdown",
   "id": "c0dcad71",
   "metadata": {},
   "source": [
    "# uncertainty_sampling"
   ]
  },
  {
   "cell_type": "code",
   "execution_count": 15,
   "id": "f8b34319",
   "metadata": {},
   "outputs": [],
   "source": [
    "# Specify our core estimator along with it is active learning model.\n",
    "knn = KNeighborsClassifier(n_neighbors=3)\n",
    "\n",
    "learner = ActiveLearner(estimator=knn, query_strategy=uncertainty_sampling, X_training=X_train, y_training=y_train)"
   ]
  },
  {
   "cell_type": "code",
   "execution_count": 16,
   "id": "28011fd6",
   "metadata": {},
   "outputs": [
    {
     "name": "stdout",
     "output_type": "stream",
     "text": [
      "0.3333333333333333\n"
     ]
    }
   ],
   "source": [
    "y_predict = learner.predict(X_raw)\n",
    "print(accuracy_score(y_predict , y_raw))"
   ]
  },
  {
   "cell_type": "code",
   "execution_count": 17,
   "id": "f06708b2",
   "metadata": {},
   "outputs": [],
   "source": [
    "unqueried_score = learner.score(X_raw, y_raw)"
   ]
  },
  {
   "cell_type": "code",
   "execution_count": 18,
   "id": "632fe997",
   "metadata": {},
   "outputs": [
    {
     "name": "stdout",
     "output_type": "stream",
     "text": [
      "Accuracy after query 1: 0.3333\n",
      "Accuracy after query 2: 0.6667\n",
      "Accuracy after query 3: 0.6667\n",
      "Accuracy after query 4: 0.6667\n",
      "Accuracy after query 5: 0.8400\n",
      "Accuracy after query 6: 0.8400\n",
      "Accuracy after query 7: 0.8800\n",
      "Accuracy after query 8: 0.9467\n",
      "Accuracy after query 9: 0.9133\n",
      "Accuracy after query 10: 0.8933\n",
      "Accuracy after query 11: 0.8933\n",
      "Accuracy after query 12: 0.8933\n",
      "Accuracy after query 13: 0.8933\n",
      "Accuracy after query 14: 0.8867\n",
      "Accuracy after query 15: 0.8867\n",
      "Accuracy after query 16: 0.8733\n",
      "Accuracy after query 17: 0.8600\n",
      "Accuracy after query 18: 0.9067\n",
      "Accuracy after query 19: 0.9333\n",
      "Accuracy after query 20: 0.9333\n"
     ]
    }
   ],
   "source": [
    "N_QUERIES = 20\n",
    "performance_history = [unqueried_score]\n",
    "\n",
    "# Allow our model to query our unlabeled dataset for the most\n",
    "# informative points according to our query strategy (uncertainty sampling).\n",
    "for index in range(N_QUERIES):\n",
    "    query_index, query_instance = learner.query(X_pool)\n",
    "\n",
    "    # Teach our ActiveLearner model the record it has requested.\n",
    "    X, y = X_pool[query_index].reshape(1, -1), y_pool[query_index].reshape(1, )\n",
    "    learner.teach(X=X, y=y)\n",
    "\n",
    "    # Remove the queried instance from the unlabeled pool.\n",
    "    X_pool, y_pool = np.delete(X_pool, query_index, axis=0), np.delete(y_pool, query_index)\n",
    "\n",
    "    # Calculate and report our model's accuracy.\n",
    "    model_accuracy = learner.score(X_raw, y_raw)\n",
    "    print('Accuracy after query {n}: {acc:0.4f}'.format(n=index + 1, acc=model_accuracy))\n",
    "\n",
    "    # Save our model's performance for plotting.\n",
    "    performance_history.append(model_accuracy)"
   ]
  },
  {
   "cell_type": "markdown",
   "id": "082e0a2d",
   "metadata": {},
   "source": [
    "# margin_sampling"
   ]
  },
  {
   "cell_type": "code",
   "execution_count": 19,
   "id": "3ef523e9",
   "metadata": {},
   "outputs": [],
   "source": [
    "learner = ActiveLearner(\n",
    "    estimator=RandomForestClassifier(),\n",
    "    query_strategy=margin_sampling,\n",
    "    X_training=X_train, y_training=y_train\n",
    ")"
   ]
  },
  {
   "cell_type": "code",
   "execution_count": 20,
   "id": "644a4267",
   "metadata": {},
   "outputs": [
    {
     "name": "stdout",
     "output_type": "stream",
     "text": [
      "0.3333333333333333\n"
     ]
    }
   ],
   "source": [
    "y_predict = learner.predict(X_raw)\n",
    "print(accuracy_score(y_predict , y_raw))"
   ]
  },
  {
   "cell_type": "code",
   "execution_count": 21,
   "id": "dcb8c766",
   "metadata": {},
   "outputs": [],
   "source": [
    "unqueried_score = learner.score(X_raw, y_raw)"
   ]
  },
  {
   "cell_type": "code",
   "execution_count": 22,
   "id": "1ddce5df",
   "metadata": {},
   "outputs": [
    {
     "name": "stdout",
     "output_type": "stream",
     "text": [
      "Accuracy after query 1: 0.5933\n",
      "Accuracy after query 2: 0.6667\n",
      "Accuracy after query 3: 0.7933\n",
      "Accuracy after query 4: 0.8067\n",
      "Accuracy after query 5: 0.7733\n",
      "Accuracy after query 6: 0.8867\n",
      "Accuracy after query 7: 0.9133\n",
      "Accuracy after query 8: 0.8933\n",
      "Accuracy after query 9: 0.9333\n",
      "Accuracy after query 10: 0.9467\n",
      "Accuracy after query 11: 0.9600\n",
      "Accuracy after query 12: 0.9733\n",
      "Accuracy after query 13: 0.9733\n",
      "Accuracy after query 14: 0.9600\n",
      "Accuracy after query 15: 0.9733\n",
      "Accuracy after query 16: 0.9800\n",
      "Accuracy after query 17: 0.9667\n",
      "Accuracy after query 18: 0.9733\n",
      "Accuracy after query 19: 0.9733\n",
      "Accuracy after query 20: 0.9733\n"
     ]
    }
   ],
   "source": [
    "N_QUERIES = 20\n",
    "performance_history = [unqueried_score]\n",
    "\n",
    "# Allow our model to query our unlabeled dataset for the most\n",
    "# informative points according to our query strategy (uncertainty sampling).\n",
    "for index in range(N_QUERIES):\n",
    "    query_index, query_instance = learner.query(X_pool)\n",
    "\n",
    "    # Teach our ActiveLearner model the record it has requested.\n",
    "    X, y = X_pool[query_index].reshape(1, -1), y_pool[query_index].reshape(1, )\n",
    "    learner.teach(X=X, y=y)\n",
    "\n",
    "    # Remove the queried instance from the unlabeled pool.\n",
    "    X_pool, y_pool = np.delete(X_pool, query_index, axis=0), np.delete(y_pool, query_index)\n",
    "\n",
    "    # Calculate and report our model's accuracy.\n",
    "    model_accuracy = learner.score(X_raw, y_raw)\n",
    "    print('Accuracy after query {n}: {acc:0.4f}'.format(n=index + 1, acc=model_accuracy))\n",
    "\n",
    "    # Save our model's performance for plotting.\n",
    "    performance_history.append(model_accuracy)"
   ]
  },
  {
   "cell_type": "markdown",
   "id": "33eaca51",
   "metadata": {},
   "source": [
    "# entropy_sampling"
   ]
  },
  {
   "cell_type": "code",
   "execution_count": 23,
   "id": "a928750f",
   "metadata": {},
   "outputs": [],
   "source": [
    "learner = ActiveLearner(\n",
    "    estimator=RandomForestClassifier(),\n",
    "    query_strategy=entropy_sampling,\n",
    "    X_training=X_train, y_training=y_train\n",
    ")"
   ]
  },
  {
   "cell_type": "code",
   "execution_count": 24,
   "id": "f8528f9d",
   "metadata": {},
   "outputs": [
    {
     "name": "stdout",
     "output_type": "stream",
     "text": [
      "0.3333333333333333\n"
     ]
    }
   ],
   "source": [
    "y_predict = learner.predict(X_raw)\n",
    "print(accuracy_score(y_predict , y_raw))"
   ]
  },
  {
   "cell_type": "code",
   "execution_count": 25,
   "id": "704d3b9b",
   "metadata": {},
   "outputs": [],
   "source": [
    "unqueried_score = learner.score(X_raw, y_raw)"
   ]
  },
  {
   "cell_type": "code",
   "execution_count": 26,
   "id": "6bb94f4b",
   "metadata": {},
   "outputs": [
    {
     "name": "stdout",
     "output_type": "stream",
     "text": [
      "Accuracy after query 1: 0.6667\n",
      "Accuracy after query 2: 0.6667\n",
      "Accuracy after query 3: 0.7467\n",
      "Accuracy after query 4: 0.8333\n",
      "Accuracy after query 5: 0.8467\n",
      "Accuracy after query 6: 0.8933\n",
      "Accuracy after query 7: 0.9467\n",
      "Accuracy after query 8: 0.9467\n",
      "Accuracy after query 9: 0.9467\n",
      "Accuracy after query 10: 0.9533\n",
      "Accuracy after query 11: 0.9600\n",
      "Accuracy after query 12: 0.9600\n",
      "Accuracy after query 13: 0.9600\n",
      "Accuracy after query 14: 0.9600\n",
      "Accuracy after query 15: 0.9600\n",
      "Accuracy after query 16: 0.9600\n",
      "Accuracy after query 17: 0.9600\n",
      "Accuracy after query 18: 0.9533\n",
      "Accuracy after query 19: 0.9600\n",
      "Accuracy after query 20: 0.9600\n"
     ]
    }
   ],
   "source": [
    "N_QUERIES = 20\n",
    "performance_history = [unqueried_score]\n",
    "\n",
    "# Allow our model to query our unlabeled dataset for the most\n",
    "# informative points according to our query strategy (uncertainty sampling).\n",
    "for index in range(N_QUERIES):\n",
    "    query_index, query_instance = learner.query(X_pool)\n",
    "\n",
    "    # Teach our ActiveLearner model the record it has requested.\n",
    "    X, y = X_pool[query_index].reshape(1, -1), y_pool[query_index].reshape(1, )\n",
    "    learner.teach(X=X, y=y)\n",
    "\n",
    "    # Remove the queried instance from the unlabeled pool.\n",
    "    X_pool, y_pool = np.delete(X_pool, query_index, axis=0), np.delete(y_pool, query_index)\n",
    "\n",
    "    # Calculate and report our model's accuracy.\n",
    "    model_accuracy = learner.score(X_raw, y_raw)\n",
    "    print('Accuracy after query {n}: {acc:0.4f}'.format(n=index + 1, acc=model_accuracy))\n",
    "\n",
    "    # Save our model's performance for plotting.\n",
    "    performance_history.append(model_accuracy)"
   ]
  },
  {
   "cell_type": "markdown",
   "id": "766b648d",
   "metadata": {},
   "source": [
    "# Query-By-Committee with PCA"
   ]
  },
  {
   "cell_type": "code",
   "execution_count": 27,
   "id": "bfcc7321",
   "metadata": {},
   "outputs": [
    {
     "name": "stdout",
     "output_type": "stream",
     "text": [
      "0.96\n"
     ]
    }
   ],
   "source": [
    "y_predict = learner.predict(X_raw)\n",
    "print(accuracy_score(y_predict , y_raw))"
   ]
  },
  {
   "cell_type": "code",
   "execution_count": 28,
   "id": "819b67a9",
   "metadata": {},
   "outputs": [],
   "source": [
    "# apply PCA\n",
    "pca = PCA(n_components=2)\n",
    "X_transformed = pca.fit_transform(X_raw)"
   ]
  },
  {
   "cell_type": "code",
   "execution_count": 29,
   "id": "1b31b65a",
   "metadata": {},
   "outputs": [],
   "source": [
    "knn = KNeighborsClassifier(n_neighbors=3)"
   ]
  },
  {
   "cell_type": "code",
   "execution_count": 32,
   "id": "eefcadaa",
   "metadata": {},
   "outputs": [
    {
     "data": {
      "image/png": "[encoded data removed]",
      "text/plain": [
       "<Figure size 1105x780 with 1 Axes>"
      ]
     },
     "metadata": {
      "needs_background": "light"
     },
     "output_type": "display_data"
    },
    {
     "data": {
      "image/png": "[encoded data removed]",
      "text/plain": [
       "<Figure size 1105x780 with 1 Axes>"
      ]
     },
     "metadata": {
      "needs_background": "light"
     },
     "output_type": "display_data"
    },
    {
     "name": "stdout",
     "output_type": "stream",
     "text": [
      "Accuracy after active learning:99.33%\n"
     ]
    }
   ],
   "source": [
    "from modAL.models import Committee\n",
    "# create a committee of three classifiers\n",
    "committee = Committee(\n",
    "    learner_list=[ActiveLearner(\n",
    "        estimator=knn,\n",
    "        X_training=X_transformed,\n",
    "        y_training=y_raw,\n",
    "    ) for _ in range(3)],\n",
    ")\n",
    "\n",
    "# select the next samples to be labeled\n",
    "n_queries = 10\n",
    "X_pool = X_transformed\n",
    "y_pool = y_raw\n",
    "for i in range(n_queries):\n",
    "    query_idx, _ = committee.query(X_pool)\n",
    "    committee.teach(\n",
    "        X=X_pool[query_idx].reshape(1, -1),\n",
    "        y=y_pool[query_idx].reshape(1, )\n",
    "    )\n",
    "    X_pool = np.delete(X_pool, query_idx, axis=0)\n",
    "    y_pool = np.delete(y_pool, query_idx)\n",
    "\n",
    "# plot the results\n",
    "_, ax = plt.subplots(figsize=(8.5, 6), dpi=130)\n",
    "ax.scatter(*X_transformed.T, c=y_raw, s=50)\n",
    "ax.set_title('Initial labeling of the iris dataset')\n",
    "plt.show()\n",
    "\n",
    "_, ax = plt.subplots(figsize=(8.5, 6), dpi=130)\n",
    "prediction = committee.predict(X_transformed)\n",
    "ax.scatter(*X_transformed.T, c=prediction, s=50)\n",
    "ax.set_title('Prediction after 10 queries with Query-By-Committee')\n",
    "plt.show()\n",
    "\n",
    "\n",
    "# calculate accuracy\n",
    "accuracy = accuracy_score(y_raw, prediction)\n",
    "\n",
    "print('Accuracy after active learning:{:.2f}%'.format(accuracy*100))\n"
   ]
  },
  {
   "cell_type": "markdown",
   "id": "d1ec7b0c",
   "metadata": {},
   "source": [
    "# Random Sampling with PCA"
   ]
  },
  {
   "cell_type": "code",
   "execution_count": 33,
   "id": "7aa2d419",
   "metadata": {},
   "outputs": [
    {
     "name": "stdout",
     "output_type": "stream",
     "text": [
      "Accuracy on test set: 96.67%\n"
     ]
    }
   ],
   "source": [
    "from sklearn.svm import SVC\n",
    "# apply PCA\n",
    "pca = PCA(n_components=2)\n",
    "X_transformed = pca.fit_transform(X_raw)\n",
    "\n",
    "# split the dataset into training and test sets\n",
    "X_train, X_test, y_train, y_test = train_test_split(X_transformed, y_raw, test_size=0.2, random_state=42)\n",
    "\n",
    "# initialize the SVM classifier\n",
    "svm = SVC(kernel='linear', C=1, probability=True)\n",
    "\n",
    "# create the ActiveLearner object with random sampling\n",
    "learner = ActiveLearner(\n",
    "    estimator=svm,\n",
    "    query_strategy=uncertainty_sampling,\n",
    "    X_training=X_train,\n",
    "    y_training=y_train\n",
    ")\n",
    "\n",
    "# train the model\n",
    "n_queries = 10\n",
    "for idx in range(n_queries):\n",
    "    query_idx, query_instance = learner.query(X_train)\n",
    "    X_new, y_new = X_train[query_idx].reshape(1, -1), y_train[query_idx].reshape(1, )\n",
    "    learner.teach(X=X_new, y=y_new)\n",
    "    X_train = np.delete(X_train, query_idx, axis=0)\n",
    "    y_train = np.delete(y_train, query_idx)\n",
    "\n",
    "# test the model\n",
    "y_pred = learner.predict(X_test)\n",
    "accuracy = accuracy_score(y_test, y_pred)\n",
    "print('Accuracy on test set: {:.2f}%'.format(accuracy*100))"
   ]
  },
  {
   "cell_type": "markdown",
   "id": "108adcc2",
   "metadata": {},
   "source": [
    "# Wine dataset"
   ]
  },
  {
   "cell_type": "code",
   "execution_count": 34,
   "id": "53476017",
   "metadata": {},
   "outputs": [],
   "source": [
    "from sklearn.datasets import load_wine\n",
    "X_raw1, y_raw1 = load_wine(return_X_y=True)"
   ]
  },
  {
   "cell_type": "code",
   "execution_count": 35,
   "id": "2e924f3b",
   "metadata": {},
   "outputs": [],
   "source": [
    "# Isolate our examples for our labeled dataset.\n",
    "n_labeled_examples = X_raw1.shape[0]\n",
    "training_indices = np.random.randint(low=0, high=n_labeled_examples + 1, size=3)\n",
    "\n",
    "X_train = X_raw1[training_indices]\n",
    "y_train = y_raw1[training_indices]\n",
    "\n",
    "# Isolate the non-training examples we'll be querying.\n",
    "X_pool = np.delete(X_raw1, training_indices, axis=0)\n",
    "y_pool = np.delete(y_raw1, training_indices, axis=0)"
   ]
  },
  {
   "cell_type": "markdown",
   "id": "d36c1c4f",
   "metadata": {},
   "source": [
    "# uncertainty_sampling"
   ]
  },
  {
   "cell_type": "code",
   "execution_count": 36,
   "id": "a041ea66",
   "metadata": {},
   "outputs": [],
   "source": [
    "# Specify our core estimator along with it is active learning model.\n",
    "knn = KNeighborsClassifier(n_neighbors=3)\n",
    "\n",
    "learner = ActiveLearner(estimator=knn, query_strategy=uncertainty_sampling, X_training=X_train, y_training=y_train)"
   ]
  },
  {
   "cell_type": "code",
   "execution_count": 37,
   "id": "a0716498",
   "metadata": {},
   "outputs": [
    {
     "name": "stdout",
     "output_type": "stream",
     "text": [
      "0.398876404494382\n"
     ]
    }
   ],
   "source": [
    "y_predict = learner.predict(X_raw1)\n",
    "print(accuracy_score(y_predict , y_raw1))"
   ]
  },
  {
   "cell_type": "code",
   "execution_count": 38,
   "id": "8e723865",
   "metadata": {},
   "outputs": [],
   "source": [
    "unqueried_score = learner.score(X_raw1, y_raw1)"
   ]
  },
  {
   "cell_type": "code",
   "execution_count": 39,
   "id": "0ff80e16",
   "metadata": {},
   "outputs": [
    {
     "name": "stdout",
     "output_type": "stream",
     "text": [
      "Accuracy after query 1: 0.6742\n",
      "Accuracy after query 2: 0.6742\n",
      "Accuracy after query 3: 0.6742\n",
      "Accuracy after query 4: 0.6067\n",
      "Accuracy after query 5: 0.5843\n",
      "Accuracy after query 6: 0.5843\n",
      "Accuracy after query 7: 0.6348\n",
      "Accuracy after query 8: 0.6573\n",
      "Accuracy after query 9: 0.6742\n",
      "Accuracy after query 10: 0.6854\n",
      "Accuracy after query 11: 0.6854\n",
      "Accuracy after query 12: 0.6854\n",
      "Accuracy after query 13: 0.6854\n",
      "Accuracy after query 14: 0.6910\n",
      "Accuracy after query 15: 0.6910\n",
      "Accuracy after query 16: 0.6910\n",
      "Accuracy after query 17: 0.6910\n",
      "Accuracy after query 18: 0.6910\n",
      "Accuracy after query 19: 0.6910\n",
      "Accuracy after query 20: 0.6910\n"
     ]
    }
   ],
   "source": [
    "N_QUERIES = 20\n",
    "performance_history = [unqueried_score]\n",
    "\n",
    "# Allow our model to query our unlabeled dataset for the most\n",
    "# informative points according to our query strategy (uncertainty sampling).\n",
    "for index in range(N_QUERIES):\n",
    "    query_index, query_instance = learner.query(X_pool)\n",
    "\n",
    "    # Teach our ActiveLearner model the record it has requested.\n",
    "    X, y = X_pool[query_index].reshape(1, -1), y_pool[query_index].reshape(1, )\n",
    "    learner.teach(X=X, y=y)\n",
    "\n",
    "    # Remove the queried instance from the unlabeled pool.\n",
    "    X_pool, y_pool = np.delete(X_pool, query_index, axis=0), np.delete(y_pool, query_index)\n",
    "\n",
    "    # Calculate and report our model's accuracy.\n",
    "    model_accuracy = learner.score(X_raw1, y_raw1)\n",
    "    print('Accuracy after query {n}: {acc:0.4f}'.format(n=index + 1, acc=model_accuracy))\n",
    "\n",
    "    # Save our model's performance for plotting.\n",
    "    performance_history.append(model_accuracy)"
   ]
  },
  {
   "cell_type": "markdown",
   "id": "f5a349df",
   "metadata": {},
   "source": [
    "# Random Sampling"
   ]
  },
  {
   "cell_type": "code",
   "execution_count": 40,
   "id": "8fb36ab4",
   "metadata": {},
   "outputs": [],
   "source": [
    "def random_sampling(classifier, X_pool):\n",
    "    n_samples = len(X_pool)\n",
    "    query_idx = np.random.choice(range(n_samples))\n",
    "    return query_idx, X_pool[query_idx]\n",
    "\n",
    "learner = ActiveLearner(\n",
    "    estimator=RandomForestClassifier(),\n",
    "    query_strategy=random_sampling,\n",
    "    X_training=X_train, y_training=y_train\n",
    ")"
   ]
  },
  {
   "cell_type": "code",
   "execution_count": 41,
   "id": "eaaaa221",
   "metadata": {},
   "outputs": [
    {
     "name": "stdout",
     "output_type": "stream",
     "text": [
      "0.6235955056179775\n"
     ]
    }
   ],
   "source": [
    "y_predict = learner.predict(X_raw1)\n",
    "print(accuracy_score(y_predict , y_raw1))"
   ]
  },
  {
   "cell_type": "code",
   "execution_count": 42,
   "id": "c41b313b",
   "metadata": {},
   "outputs": [],
   "source": [
    "unqueried_score = learner.score(X_raw1, y_raw1)"
   ]
  },
  {
   "cell_type": "code",
   "execution_count": 43,
   "id": "6a991e63",
   "metadata": {},
   "outputs": [
    {
     "name": "stdout",
     "output_type": "stream",
     "text": [
      "Accuracy after query 1: 0.6348\n",
      "Accuracy after query 2: 0.7528\n",
      "Accuracy after query 3: 0.8315\n",
      "Accuracy after query 4: 0.8315\n",
      "Accuracy after query 5: 0.8371\n",
      "Accuracy after query 6: 0.9045\n",
      "Accuracy after query 7: 0.9101\n",
      "Accuracy after query 8: 0.9213\n",
      "Accuracy after query 9: 0.9326\n",
      "Accuracy after query 10: 0.9551\n",
      "Accuracy after query 11: 0.9382\n",
      "Accuracy after query 12: 0.9326\n",
      "Accuracy after query 13: 0.8876\n",
      "Accuracy after query 14: 0.9270\n",
      "Accuracy after query 15: 0.9270\n",
      "Accuracy after query 16: 0.9494\n",
      "Accuracy after query 17: 0.9551\n",
      "Accuracy after query 18: 0.9438\n",
      "Accuracy after query 19: 0.9607\n",
      "Accuracy after query 20: 0.9494\n"
     ]
    }
   ],
   "source": [
    "N_QUERIES = 20\n",
    "performance_history = [unqueried_score]\n",
    "\n",
    "# Allow our model to query our unlabeled dataset for the most\n",
    "# informative points according to our query strategy (uncertainty sampling).\n",
    "for index in range(N_QUERIES):\n",
    "    query_index, query_instance = learner.query(X_pool)\n",
    "\n",
    "    # Teach our ActiveLearner model the record it has requested.\n",
    "    X, y = X_pool[query_index].reshape(1, -1), y_pool[query_index].reshape(1, )\n",
    "    learner.teach(X=X, y=y)\n",
    "\n",
    "    # Remove the queried instance from the unlabeled pool.\n",
    "    X_pool, y_pool = np.delete(X_pool, query_index, axis=0), np.delete(y_pool, query_index)\n",
    "\n",
    "    # Calculate and report our model's accuracy.\n",
    "    model_accuracy = learner.score(X_raw1, y_raw1)\n",
    "    print('Accuracy after query {n}: {acc:0.4f}'.format(n=index + 1, acc=model_accuracy))\n",
    "\n",
    "    # Save our model's performance for plotting.\n",
    "    performance_history.append(model_accuracy)"
   ]
  },
  {
   "cell_type": "markdown",
   "id": "0351bc78",
   "metadata": {},
   "source": [
    "# margin_sampling"
   ]
  },
  {
   "cell_type": "code",
   "execution_count": 44,
   "id": "71961158",
   "metadata": {},
   "outputs": [],
   "source": [
    "learner = ActiveLearner(\n",
    "    estimator=RandomForestClassifier(),\n",
    "    query_strategy=margin_sampling,\n",
    "    X_training=X_train, y_training=y_train\n",
    ")"
   ]
  },
  {
   "cell_type": "code",
   "execution_count": 45,
   "id": "15c43935",
   "metadata": {},
   "outputs": [
    {
     "name": "stdout",
     "output_type": "stream",
     "text": [
      "0.6685393258426966\n"
     ]
    }
   ],
   "source": [
    "y_predict = learner.predict(X_raw1)\n",
    "print(accuracy_score(y_predict , y_raw1))"
   ]
  },
  {
   "cell_type": "code",
   "execution_count": 46,
   "id": "bae9d5a8",
   "metadata": {},
   "outputs": [],
   "source": [
    "unqueried_score = learner.score(X_raw1, y_raw1)"
   ]
  },
  {
   "cell_type": "code",
   "execution_count": 47,
   "id": "f0c83931",
   "metadata": {},
   "outputs": [
    {
     "name": "stdout",
     "output_type": "stream",
     "text": [
      "Accuracy after query 1: 0.6798\n",
      "Accuracy after query 2: 0.6910\n",
      "Accuracy after query 3: 0.6966\n",
      "Accuracy after query 4: 0.7022\n",
      "Accuracy after query 5: 0.6685\n",
      "Accuracy after query 6: 0.6910\n",
      "Accuracy after query 7: 0.7079\n",
      "Accuracy after query 8: 0.7135\n",
      "Accuracy after query 9: 0.6910\n",
      "Accuracy after query 10: 0.7697\n",
      "Accuracy after query 11: 0.7697\n",
      "Accuracy after query 12: 0.7697\n",
      "Accuracy after query 13: 0.9213\n",
      "Accuracy after query 14: 0.9607\n",
      "Accuracy after query 15: 0.9775\n",
      "Accuracy after query 16: 0.9775\n",
      "Accuracy after query 17: 0.9775\n",
      "Accuracy after query 18: 0.9831\n",
      "Accuracy after query 19: 0.9775\n",
      "Accuracy after query 20: 0.9944\n"
     ]
    }
   ],
   "source": [
    "N_QUERIES = 20\n",
    "performance_history = [unqueried_score]\n",
    "\n",
    "# Allow our model to query our unlabeled dataset for the most\n",
    "# informative points according to our query strategy (uncertainty sampling).\n",
    "for index in range(N_QUERIES):\n",
    "    query_index, query_instance = learner.query(X_pool)\n",
    "\n",
    "    # Teach our ActiveLearner model the record it has requested.\n",
    "    X, y = X_pool[query_index].reshape(1, -1), y_pool[query_index].reshape(1, )\n",
    "    learner.teach(X=X, y=y)\n",
    "\n",
    "    # Remove the queried instance from the unlabeled pool.\n",
    "    X_pool, y_pool = np.delete(X_pool, query_index, axis=0), np.delete(y_pool, query_index)\n",
    "\n",
    "    # Calculate and report our model's accuracy.\n",
    "    model_accuracy = learner.score(X_raw1, y_raw1)\n",
    "    print('Accuracy after query {n}: {acc:0.4f}'.format(n=index + 1, acc=model_accuracy))\n",
    "\n",
    "    # Save our model's performance for plotting.\n",
    "    performance_history.append(model_accuracy)"
   ]
  },
  {
   "cell_type": "markdown",
   "id": "d6542c22",
   "metadata": {},
   "source": [
    "# entropy_sampling"
   ]
  },
  {
   "cell_type": "code",
   "execution_count": 48,
   "id": "b4afb982",
   "metadata": {},
   "outputs": [],
   "source": [
    "learner = ActiveLearner(\n",
    "    estimator=RandomForestClassifier(),\n",
    "    query_strategy=entropy_sampling,\n",
    "    X_training=X_train, y_training=y_train\n",
    ")"
   ]
  },
  {
   "cell_type": "code",
   "execution_count": 49,
   "id": "79409db3",
   "metadata": {},
   "outputs": [
    {
     "name": "stdout",
     "output_type": "stream",
     "text": [
      "0.6629213483146067\n"
     ]
    }
   ],
   "source": [
    "y_predict = learner.predict(X_raw1)\n",
    "print(accuracy_score(y_predict , y_raw1))"
   ]
  },
  {
   "cell_type": "code",
   "execution_count": 50,
   "id": "21edc9d5",
   "metadata": {},
   "outputs": [],
   "source": [
    "unqueried_score = learner.score(X_raw1, y_raw1)"
   ]
  },
  {
   "cell_type": "code",
   "execution_count": 51,
   "id": "57330af2",
   "metadata": {},
   "outputs": [
    {
     "name": "stdout",
     "output_type": "stream",
     "text": [
      "Accuracy after query 1: 0.6011\n",
      "Accuracy after query 2: 0.7135\n",
      "Accuracy after query 3: 0.8427\n",
      "Accuracy after query 4: 0.8989\n",
      "Accuracy after query 5: 0.8708\n",
      "Accuracy after query 6: 0.8989\n",
      "Accuracy after query 7: 0.8933\n",
      "Accuracy after query 8: 0.8764\n",
      "Accuracy after query 9: 0.8764\n",
      "Accuracy after query 10: 0.8820\n",
      "Accuracy after query 11: 0.9551\n",
      "Accuracy after query 12: 0.9719\n",
      "Accuracy after query 13: 0.9494\n",
      "Accuracy after query 14: 0.9494\n",
      "Accuracy after query 15: 0.9607\n",
      "Accuracy after query 16: 0.9551\n",
      "Accuracy after query 17: 0.9663\n",
      "Accuracy after query 18: 0.9551\n",
      "Accuracy after query 19: 0.9663\n",
      "Accuracy after query 20: 0.9382\n"
     ]
    }
   ],
   "source": [
    "N_QUERIES = 20\n",
    "performance_history = [unqueried_score]\n",
    "\n",
    "# Allow our model to query our unlabeled dataset for the most\n",
    "# informative points according to our query strategy (uncertainty sampling).\n",
    "for index in range(N_QUERIES):\n",
    "    query_index, query_instance = learner.query(X_pool)\n",
    "\n",
    "    # Teach our ActiveLearner model the record it has requested.\n",
    "    X, y = X_pool[query_index].reshape(1, -1), y_pool[query_index].reshape(1, )\n",
    "    learner.teach(X=X, y=y)\n",
    "\n",
    "    # Remove the queried instance from the unlabeled pool.\n",
    "    X_pool, y_pool = np.delete(X_pool, query_index, axis=0), np.delete(y_pool, query_index)\n",
    "\n",
    "    # Calculate and report our model's accuracy.\n",
    "    model_accuracy = learner.score(X_raw1, y_raw1)\n",
    "    print('Accuracy after query {n}: {acc:0.4f}'.format(n=index + 1, acc=model_accuracy))\n",
    "\n",
    "    # Save our model's performance for plotting.\n",
    "    performance_history.append(model_accuracy)"
   ]
  },
  {
   "cell_type": "markdown",
   "id": "5af2a3f1",
   "metadata": {},
   "source": [
    "# Query-By-Committee with PCA"
   ]
  },
  {
   "cell_type": "code",
   "execution_count": 52,
   "id": "8671ff3d",
   "metadata": {},
   "outputs": [
    {
     "name": "stdout",
     "output_type": "stream",
     "text": [
      "0.9382022471910112\n"
     ]
    }
   ],
   "source": [
    "y_predict = learner.predict(X_raw1)\n",
    "print(accuracy_score(y_predict , y_raw1))"
   ]
  },
  {
   "cell_type": "code",
   "execution_count": 53,
   "id": "87bd13f1",
   "metadata": {},
   "outputs": [],
   "source": [
    "# apply PCA\n",
    "pca = PCA(n_components=2)\n",
    "X_transformed = pca.fit_transform(X_raw1)"
   ]
  },
  {
   "cell_type": "code",
   "execution_count": 54,
   "id": "88494ffa",
   "metadata": {},
   "outputs": [],
   "source": [
    "knn = KNeighborsClassifier(n_neighbors=3)"
   ]
  },
  {
   "cell_type": "code",
   "execution_count": 55,
   "id": "2c946e6b",
   "metadata": {},
   "outputs": [
    {
     "data": {
      "image/png": "[encoded data removed]",
      "text/plain": [
       "<Figure size 1105x780 with 1 Axes>"
      ]
     },
     "metadata": {
      "needs_background": "light"
     },
     "output_type": "display_data"
    },
    {
     "data": {
      "image/png": "[encoded data removed]",
      "text/plain": [
       "<Figure size 1105x780 with 1 Axes>"
      ]
     },
     "metadata": {
      "needs_background": "light"
     },
     "output_type": "display_data"
    },
    {
     "name": "stdout",
     "output_type": "stream",
     "text": [
      "Accuracy after active learning:85.39%\n"
     ]
    }
   ],
   "source": [
    "# create a committee of three classifiers\n",
    "committee = Committee(\n",
    "    learner_list=[ActiveLearner(\n",
    "        estimator=knn,\n",
    "        X_training=X_transformed,\n",
    "        y_training=y_raw1,\n",
    "    ) for _ in range(3)],\n",
    ")\n",
    "\n",
    "# select the next samples to be labeled\n",
    "n_queries = 20\n",
    "X_pool = X_transformed\n",
    "y_pool = y_raw1\n",
    "for i in range(n_queries):\n",
    "    query_idx, _ = committee.query(X_pool)\n",
    "    committee.teach(\n",
    "        X=X_pool[query_idx].reshape(1, -1),\n",
    "        y=y_pool[query_idx].reshape(1, )\n",
    "    )\n",
    "    X_pool = np.delete(X_pool, query_idx, axis=0)\n",
    "    y_pool = np.delete(y_pool, query_idx)\n",
    "\n",
    "# plot the results\n",
    "_, ax = plt.subplots(figsize=(8.5, 6), dpi=130)\n",
    "ax.scatter(*X_transformed.T, c=y_raw1, s=50)\n",
    "ax.set_title('Initial labeling of the wie dataset')\n",
    "plt.show()\n",
    "\n",
    "_, ax = plt.subplots(figsize=(8.5, 6), dpi=130)\n",
    "prediction = committee.predict(X_transformed)\n",
    "ax.scatter(*X_transformed.T, c=prediction, s=50)\n",
    "ax.set_title('Prediction after 10 queries with Query-By-Committee')\n",
    "plt.show()\n",
    "\n",
    "\n",
    "# calculate accuracy\n",
    "accuracy = accuracy_score(y_raw1, prediction)\n",
    "\n",
    "print('Accuracy after active learning:{:.2f}%'.format(accuracy*100))\n"
   ]
  },
  {
   "cell_type": "markdown",
   "id": "77acacef",
   "metadata": {},
   "source": [
    "# Iris dataset with Unbalanced "
   ]
  },
  {
   "cell_type": "code",
   "execution_count": 56,
   "id": "0b24f328",
   "metadata": {},
   "outputs": [],
   "source": [
    "from sklearn.datasets import load_iris\n",
    "from sklearn.utils import shuffle\n",
    "from modAL.models import ActiveLearner\n",
    "from modAL.uncertainty import uncertainty_sampling\n",
    "import numpy as np\n",
    "\n",
    "# Load the Iris dataset\n",
    "X, y = load_iris(return_X_y=True)\n",
    "\n",
    "# Shuffle the data\n",
    "X, y = shuffle(X, y, random_state=42)\n",
    "\n",
    "# Create an unbalanced version of the dataset by duplicating samples from the third class\n",
    "class_to_duplicate = 2\n",
    "class_indices = [i for i, label in enumerate(y) if label == class_to_duplicate]\n",
    "num_samples_to_duplicate = 30\n",
    "indices_to_duplicate = class_indices[:num_samples_to_duplicate]\n",
    "X_unbalanced = np.concatenate([X, X[indices_to_duplicate]], axis=0)\n",
    "y_unbalanced = np.concatenate([y, y[indices_to_duplicate]])\n"
   ]
  },
  {
   "cell_type": "code",
   "execution_count": 57,
   "id": "60081252",
   "metadata": {},
   "outputs": [
    {
     "name": "stdout",
     "output_type": "stream",
     "text": [
      "720\n"
     ]
    }
   ],
   "source": [
    "print(X_unbalanced.size)"
   ]
  },
  {
   "cell_type": "code",
   "execution_count": 58,
   "id": "172471c2",
   "metadata": {},
   "outputs": [
    {
     "name": "stdout",
     "output_type": "stream",
     "text": [
      "180\n"
     ]
    }
   ],
   "source": [
    "print(y_unbalanced.size)"
   ]
  },
  {
   "cell_type": "code",
   "execution_count": 59,
   "id": "42ec40c8",
   "metadata": {},
   "outputs": [],
   "source": [
    "# Isolate our examples for our labeled dataset.\n",
    "n_labeled_examples = X_raw1.shape[0]\n",
    "training_indices = np.random.randint(low=0, high=n_labeled_examples + 1, size=3)\n",
    "\n",
    "X_train = X_unbalanced[training_indices]\n",
    "y_train = y_unbalanced[training_indices]\n",
    "\n",
    "# Isolate the non-training examples we'll be querying.\n",
    "X_pool = np.delete(X_unbalanced, training_indices, axis=0)\n",
    "y_pool = np.delete(y_unbalanced, training_indices, axis=0)"
   ]
  },
  {
   "cell_type": "markdown",
   "id": "4e10357a",
   "metadata": {},
   "source": [
    "# uncertainty_sampling"
   ]
  },
  {
   "cell_type": "code",
   "execution_count": 60,
   "id": "61a96aaf",
   "metadata": {},
   "outputs": [],
   "source": [
    "# Specify our core estimator along with it is active learning model.\n",
    "knn = KNeighborsClassifier(n_neighbors=3)\n",
    "\n",
    "learner = ActiveLearner(estimator=knn, query_strategy=uncertainty_sampling, X_training=X_train, y_training=y_train)"
   ]
  },
  {
   "cell_type": "code",
   "execution_count": 61,
   "id": "b92063d5",
   "metadata": {},
   "outputs": [
    {
     "name": "stdout",
     "output_type": "stream",
     "text": [
      "0.2777777777777778\n"
     ]
    }
   ],
   "source": [
    "y_predict = learner.predict(X_unbalanced)\n",
    "print(accuracy_score(y_predict , y_unbalanced))"
   ]
  },
  {
   "cell_type": "code",
   "execution_count": 62,
   "id": "88592df1",
   "metadata": {},
   "outputs": [],
   "source": [
    "unqueried_score = learner.score(X_unbalanced, y_unbalanced)"
   ]
  },
  {
   "cell_type": "code",
   "execution_count": 63,
   "id": "748dce57",
   "metadata": {},
   "outputs": [
    {
     "name": "stdout",
     "output_type": "stream",
     "text": [
      "Accuracy after query 1: 0.2778\n",
      "Accuracy after query 2: 0.2778\n",
      "Accuracy after query 3: 0.5556\n",
      "Accuracy after query 4: 0.5556\n",
      "Accuracy after query 5: 0.5556\n",
      "Accuracy after query 6: 0.5556\n",
      "Accuracy after query 7: 0.5556\n",
      "Accuracy after query 8: 0.5556\n",
      "Accuracy after query 9: 0.5556\n",
      "Accuracy after query 10: 0.5556\n",
      "Accuracy after query 11: 0.5556\n",
      "Accuracy after query 12: 0.5556\n",
      "Accuracy after query 13: 0.5556\n",
      "Accuracy after query 14: 0.5556\n",
      "Accuracy after query 15: 0.5556\n",
      "Accuracy after query 16: 0.5556\n",
      "Accuracy after query 17: 0.5556\n",
      "Accuracy after query 18: 0.5556\n",
      "Accuracy after query 19: 0.5556\n",
      "Accuracy after query 20: 0.5556\n"
     ]
    }
   ],
   "source": [
    "N_QUERIES = 20\n",
    "performance_history = [unqueried_score]\n",
    "\n",
    "# Allow our model to query our unlabeled dataset for the most\n",
    "# informative points according to our query strategy (uncertainty sampling).\n",
    "for index in range(N_QUERIES):\n",
    "    query_index, query_instance = learner.query(X_unbalanced)\n",
    "\n",
    "    # Teach our ActiveLearner model the record it has requested.\n",
    "    X, y = X_pool[query_index].reshape(1, -1), y_pool[query_index].reshape(1, )\n",
    "    learner.teach(X=X, y=y)\n",
    "\n",
    "    # Remove the queried instance from the unlabeled pool.\n",
    "    X_pool, y_pool = np.delete(X_unbalanced, query_index, axis=0), np.delete(y_unbalanced, query_index)\n",
    "\n",
    "    # Calculate and report our model's accuracy.\n",
    "    model_accuracy = learner.score(X_unbalanced, y_unbalanced)\n",
    "    print('Accuracy after query {n}: {acc:0.4f}'.format(n=index + 1, acc=model_accuracy))\n",
    "\n",
    "    # Save our model's performance for plotting.\n",
    "    performance_history.append(model_accuracy)"
   ]
  },
  {
   "cell_type": "markdown",
   "id": "a7e9df8b",
   "metadata": {},
   "source": [
    "# Iris dataset with Unbalanced "
   ]
  },
  {
   "cell_type": "code",
   "execution_count": 64,
   "id": "eeb8ebb8",
   "metadata": {},
   "outputs": [
    {
     "name": "stdout",
     "output_type": "stream",
     "text": [
      "Class distribution: [ 8 12 50]\n"
     ]
    }
   ],
   "source": [
    "# load the iris dataset\n",
    "iris = load_iris()\n",
    "\n",
    "# shuffle the data\n",
    "iris_X, iris_y = shuffle(iris.data, iris.target, random_state=42)\n",
    "\n",
    "# create an unbalanced dataset by removing 80% of the instances from class 2\n",
    "indices = np.where(iris_y != 2)[0]\n",
    "np.random.shuffle(indices)\n",
    "remove_indices = indices[:int(0.8*len(indices))]\n",
    "X_unbalanced = np.delete(iris_X, remove_indices, axis=0)\n",
    "y_unbalanced = np.delete(iris_y, remove_indices)\n",
    "\n",
    "# print the class distribution\n",
    "print(\"Class distribution:\", np.bincount(y_unbalanced))\n"
   ]
  },
  {
   "cell_type": "markdown",
   "id": "bfbd4d89",
   "metadata": {},
   "source": [
    "# entropy_sampling"
   ]
  },
  {
   "cell_type": "code",
   "execution_count": 65,
   "id": "fe1ad55d",
   "metadata": {},
   "outputs": [],
   "source": [
    "learner = ActiveLearner(\n",
    "    estimator=RandomForestClassifier(),\n",
    "    query_strategy=entropy_sampling,\n",
    "    X_training=X_unbalanced, y_training=y_unbalanced\n",
    ")"
   ]
  },
  {
   "cell_type": "code",
   "execution_count": 66,
   "id": "4a85d10d",
   "metadata": {},
   "outputs": [
    {
     "name": "stdout",
     "output_type": "stream",
     "text": [
      "1.0\n"
     ]
    }
   ],
   "source": [
    "y_predict = learner.predict(X_unbalanced)\n",
    "print(accuracy_score(y_predict , y_unbalanced))"
   ]
  },
  {
   "cell_type": "code",
   "execution_count": 67,
   "id": "f3ea929a",
   "metadata": {},
   "outputs": [],
   "source": [
    "unqueried_score = learner.score(iris_X, iris_y)"
   ]
  },
  {
   "cell_type": "code",
   "execution_count": 68,
   "id": "4369e632",
   "metadata": {},
   "outputs": [
    {
     "name": "stdout",
     "output_type": "stream",
     "text": [
      "Accuracy after query 1: 0.9667\n",
      "Accuracy after query 2: 0.9667\n",
      "Accuracy after query 3: 0.9533\n",
      "Accuracy after query 4: 0.9667\n",
      "Accuracy after query 5: 0.9667\n",
      "Accuracy after query 6: 0.9667\n",
      "Accuracy after query 7: 0.9600\n",
      "Accuracy after query 8: 0.9667\n",
      "Accuracy after query 9: 0.9667\n",
      "Accuracy after query 10: 0.9667\n",
      "Accuracy after query 11: 0.9533\n",
      "Accuracy after query 12: 0.9667\n",
      "Accuracy after query 13: 0.9667\n",
      "Accuracy after query 14: 0.9533\n",
      "Accuracy after query 15: 0.9667\n",
      "Accuracy after query 16: 0.9667\n",
      "Accuracy after query 17: 0.9533\n",
      "Accuracy after query 18: 0.9533\n",
      "Accuracy after query 19: 0.9667\n",
      "Accuracy after query 20: 0.9667\n"
     ]
    }
   ],
   "source": [
    "N_QUERIES = 20\n",
    "performance_history = [unqueried_score]\n",
    "X_pool = X_unbalanced\n",
    "y_pool = y_unbalanced\n",
    "\n",
    "# Allow our model to query our unlabeled dataset for the most\n",
    "# informative points according to our query strategy (uncertainty sampling).\n",
    "for index in range(N_QUERIES):\n",
    "    query_index, query_instance = learner.query(X_pool)\n",
    "\n",
    "    # Teach our ActiveLearner model the record it has requested.\n",
    "    X, y = X_pool[query_index].reshape(1, -1), y_pool[query_index].reshape(1, )\n",
    "    learner.teach(X=X, y=y)\n",
    "\n",
    "    # Remove the queried instance from the unlabeled pool.\n",
    "    X_pool, y_pool = np.delete(X_pool, query_index, axis=0), np.delete(y_pool, query_index)\n",
    "\n",
    "    # Calculate and report our model's accuracy.\n",
    "    model_accuracy = learner.score(iris_X, iris_y)\n",
    "    print('Accuracy after query {n}: {acc:0.4f}'.format(n=index + 1, acc=model_accuracy))\n",
    "\n",
    "    # Save our model's performance for plotting.\n",
    "    performance_history.append(model_accuracy)"
   ]
  },
  {
   "cell_type": "markdown",
   "id": "7cb41fb8",
   "metadata": {},
   "source": [
    "# uncertainty_sampling"
   ]
  },
  {
   "cell_type": "code",
   "execution_count": 69,
   "id": "1029826d",
   "metadata": {},
   "outputs": [],
   "source": [
    "# Specify our core estimator along with it is active learning model.\n",
    "knn = KNeighborsClassifier(n_neighbors=3)\n",
    "\n",
    "learner = ActiveLearner(estimator=knn, query_strategy=uncertainty_sampling, X_training=X_unbalanced, y_training=y_unbalanced)"
   ]
  },
  {
   "cell_type": "code",
   "execution_count": 70,
   "id": "3d6ada4d",
   "metadata": {},
   "outputs": [
    {
     "name": "stdout",
     "output_type": "stream",
     "text": [
      "1.0\n"
     ]
    }
   ],
   "source": [
    "y_predict = learner.predict(X_unbalanced)\n",
    "print(accuracy_score(y_predict , y_unbalanced))"
   ]
  },
  {
   "cell_type": "code",
   "execution_count": 71,
   "id": "6000c51f",
   "metadata": {},
   "outputs": [],
   "source": [
    "unqueried_score = learner.score(iris_X, iris_y)"
   ]
  },
  {
   "cell_type": "code",
   "execution_count": 72,
   "id": "96ea816c",
   "metadata": {},
   "outputs": [
    {
     "name": "stdout",
     "output_type": "stream",
     "text": [
      "Accuracy after query 1: 0.9600\n",
      "Accuracy after query 2: 0.9533\n",
      "Accuracy after query 3: 0.9600\n",
      "Accuracy after query 4: 0.9600\n",
      "Accuracy after query 5: 0.9600\n",
      "Accuracy after query 6: 0.9667\n",
      "Accuracy after query 7: 0.9667\n",
      "Accuracy after query 8: 0.9667\n",
      "Accuracy after query 9: 0.9667\n",
      "Accuracy after query 10: 0.9667\n",
      "Accuracy after query 11: 0.9667\n",
      "Accuracy after query 12: 0.9667\n",
      "Accuracy after query 13: 0.9667\n",
      "Accuracy after query 14: 0.9667\n",
      "Accuracy after query 15: 0.9667\n",
      "Accuracy after query 16: 0.9667\n",
      "Accuracy after query 17: 0.9667\n",
      "Accuracy after query 18: 0.9667\n",
      "Accuracy after query 19: 0.9667\n",
      "Accuracy after query 20: 0.9667\n"
     ]
    }
   ],
   "source": [
    "N_QUERIES = 20\n",
    "performance_history = [unqueried_score]\n",
    "X_pool = X_unbalanced\n",
    "y_pool = y_unbalanced\n",
    "\n",
    "# Allow our model to query our unlabeled dataset for the most\n",
    "# informative points according to our query strategy (uncertainty sampling).\n",
    "for index in range(N_QUERIES):\n",
    "    query_index, query_instance = learner.query(X_pool)\n",
    "\n",
    "    # Teach our ActiveLearner model the record it has requested.\n",
    "    X, y = X_pool[query_index].reshape(1, -1), y_pool[query_index].reshape(1, )\n",
    "    learner.teach(X=X, y=y)\n",
    "\n",
    "    # Remove the queried instance from the unlabeled pool.\n",
    "    X_pool, y_pool = np.delete(X_pool, query_index, axis=0), np.delete(y_pool, query_index)\n",
    "\n",
    "    # Calculate and report our model's accuracy.\n",
    "    model_accuracy = learner.score(iris_X, iris_y)\n",
    "    print('Accuracy after query {n}: {acc:0.4f}'.format(n=index + 1, acc=model_accuracy))\n",
    "\n",
    "    # Save our model's performance for plotting.\n",
    "    performance_history.append(model_accuracy)"
   ]
  },
  {
   "cell_type": "markdown",
   "id": "a6b1e380",
   "metadata": {},
   "source": [
    "# Random Sampling "
   ]
  },
  {
   "cell_type": "code",
   "execution_count": 73,
   "id": "d919f441",
   "metadata": {},
   "outputs": [],
   "source": [
    "def random_sampling(classifier, X_pool):\n",
    "    n_samples = len(X_pool)\n",
    "    query_idx = np.random.choice(range(n_samples))\n",
    "    return query_idx, X_pool[query_idx]\n",
    "\n",
    "learner = ActiveLearner(\n",
    "    estimator=RandomForestClassifier(),\n",
    "    query_strategy=random_sampling,\n",
    "    X_training=X_unbalanced, y_training=y_unbalanced\n",
    ")"
   ]
  },
  {
   "cell_type": "code",
   "execution_count": 74,
   "id": "3a350ac3",
   "metadata": {},
   "outputs": [
    {
     "name": "stdout",
     "output_type": "stream",
     "text": [
      "1.0\n"
     ]
    }
   ],
   "source": [
    "y_predict = learner.predict(X_unbalanced)\n",
    "print(accuracy_score(y_predict , y_unbalanced))"
   ]
  },
  {
   "cell_type": "code",
   "execution_count": 75,
   "id": "48aea64f",
   "metadata": {},
   "outputs": [],
   "source": [
    "unqueried_score = learner.score(iris_X, iris_y)"
   ]
  },
  {
   "cell_type": "code",
   "execution_count": 76,
   "id": "013013da",
   "metadata": {},
   "outputs": [
    {
     "name": "stdout",
     "output_type": "stream",
     "text": [
      "Accuracy after query 1: 0.9667\n",
      "Accuracy after query 2: 0.9667\n",
      "Accuracy after query 3: 0.9667\n",
      "Accuracy after query 4: 0.9667\n",
      "Accuracy after query 5: 0.9667\n",
      "Accuracy after query 6: 0.9600\n",
      "Accuracy after query 7: 0.9667\n",
      "Accuracy after query 8: 0.9667\n",
      "Accuracy after query 9: 0.9667\n",
      "Accuracy after query 10: 0.9667\n",
      "Accuracy after query 11: 0.9667\n",
      "Accuracy after query 12: 0.9667\n",
      "Accuracy after query 13: 0.9600\n",
      "Accuracy after query 14: 0.9667\n",
      "Accuracy after query 15: 0.9600\n",
      "Accuracy after query 16: 0.9667\n",
      "Accuracy after query 17: 0.9667\n",
      "Accuracy after query 18: 0.9667\n",
      "Accuracy after query 19: 0.9667\n",
      "Accuracy after query 20: 0.9667\n"
     ]
    }
   ],
   "source": [
    "N_QUERIES = 20\n",
    "performance_history = [unqueried_score]\n",
    "X_pool = X_unbalanced\n",
    "y_pool = y_unbalanced\n",
    "\n",
    "# Allow our model to query our unlabeled dataset for the most\n",
    "# informative points according to our query strategy (uncertainty sampling).\n",
    "for index in range(N_QUERIES):\n",
    "    query_index, query_instance = learner.query(X_pool)\n",
    "\n",
    "    # Teach our ActiveLearner model the record it has requested.\n",
    "    X, y = X_pool[query_index].reshape(1, -1), y_pool[query_index].reshape(1, )\n",
    "    learner.teach(X=X, y=y)\n",
    "\n",
    "    # Remove the queried instance from the unlabeled pool.\n",
    "    X_pool, y_pool = np.delete(X_pool, query_index, axis=0), np.delete(y_pool, query_index)\n",
    "\n",
    "    # Calculate and report our model's accuracy.\n",
    "    model_accuracy = learner.score(iris_X, iris_y)\n",
    "    print('Accuracy after query {n}: {acc:0.4f}'.format(n=index + 1, acc=model_accuracy))\n",
    "\n",
    "    # Save our model's performance for plotting.\n",
    "    performance_history.append(model_accuracy)"
   ]
  },
  {
   "cell_type": "markdown",
   "id": "2186f7ad",
   "metadata": {},
   "source": [
    "# margin_sampling"
   ]
  },
  {
   "cell_type": "code",
   "execution_count": 77,
   "id": "12e27f20",
   "metadata": {},
   "outputs": [],
   "source": [
    "learner = ActiveLearner(\n",
    "    estimator=RandomForestClassifier(),\n",
    "    query_strategy=margin_sampling,\n",
    "    X_training=X_unbalanced, y_training=y_unbalanced\n",
    ")"
   ]
  },
  {
   "cell_type": "code",
   "execution_count": 78,
   "id": "de9ad480",
   "metadata": {},
   "outputs": [
    {
     "name": "stdout",
     "output_type": "stream",
     "text": [
      "1.0\n"
     ]
    }
   ],
   "source": [
    "y_predict = learner.predict(X_unbalanced)\n",
    "print(accuracy_score(y_predict , y_unbalanced))"
   ]
  },
  {
   "cell_type": "code",
   "execution_count": 79,
   "id": "68dc804c",
   "metadata": {},
   "outputs": [],
   "source": [
    "unqueried_score = learner.score(iris_X, iris_y)"
   ]
  },
  {
   "cell_type": "code",
   "execution_count": 80,
   "id": "57c4cfe5",
   "metadata": {},
   "outputs": [
    {
     "name": "stdout",
     "output_type": "stream",
     "text": [
      "Accuracy after query 1: 0.9600\n",
      "Accuracy after query 2: 0.9667\n",
      "Accuracy after query 3: 0.9667\n",
      "Accuracy after query 4: 0.9667\n",
      "Accuracy after query 5: 0.9667\n",
      "Accuracy after query 6: 0.9667\n",
      "Accuracy after query 7: 0.9667\n",
      "Accuracy after query 8: 0.9667\n",
      "Accuracy after query 9: 0.9667\n",
      "Accuracy after query 10: 0.9667\n",
      "Accuracy after query 11: 0.9667\n",
      "Accuracy after query 12: 0.9533\n",
      "Accuracy after query 13: 0.9533\n",
      "Accuracy after query 14: 0.9533\n",
      "Accuracy after query 15: 0.9533\n",
      "Accuracy after query 16: 0.9667\n",
      "Accuracy after query 17: 0.9667\n",
      "Accuracy after query 18: 0.9667\n",
      "Accuracy after query 19: 0.9533\n",
      "Accuracy after query 20: 0.9667\n"
     ]
    }
   ],
   "source": [
    "N_QUERIES = 20\n",
    "performance_history = [unqueried_score]\n",
    "X_pool = X_unbalanced\n",
    "y_pool = y_unbalanced\n",
    "\n",
    "# Allow our model to query our unlabeled dataset for the most\n",
    "# informative points according to our query strategy (uncertainty sampling).\n",
    "for index in range(N_QUERIES):\n",
    "    query_index, query_instance = learner.query(X_pool)\n",
    "\n",
    "    # Teach our ActiveLearner model the record it has requested.\n",
    "    X, y = X_pool[query_index].reshape(1, -1), y_pool[query_index].reshape(1, )\n",
    "    learner.teach(X=X, y=y)\n",
    "\n",
    "    # Remove the queried instance from the unlabeled pool.\n",
    "    X_pool, y_pool = np.delete(X_pool, query_index, axis=0), np.delete(y_pool, query_index)\n",
    "\n",
    "    # Calculate and report our model's accuracy.\n",
    "    model_accuracy = learner.score(iris_X, iris_y)\n",
    "    print('Accuracy after query {n}: {acc:0.4f}'.format(n=index + 1, acc=model_accuracy))\n",
    "\n",
    "    # Save our model's performance for plotting.\n",
    "    performance_history.append(model_accuracy)"
   ]
  },
  {
   "cell_type": "code",
   "execution_count": null,
   "id": "cda50d9d",
   "metadata": {},
   "outputs": [],
   "source": []
  },
  {
   "cell_type": "code",
   "execution_count": null,
   "id": "804d85fa",
   "metadata": {},
   "outputs": [],
   "source": []
  }
 ],
 "metadata": {
  "kernelspec": {
   "display_name": "Python 3 (ipykernel)",
   "language": "python",
   "name": "python3"
  },
  "language_info": {
   "codemirror_mode": {
    "name": "ipython",
    "version": 3
   },
   "file_extension": ".py",
   "mimetype": "text/x-python",
   "name": "python",
   "nbconvert_exporter": "python",
   "pygments_lexer": "ipython3",
   "version": "3.10.5"
  }
 },
 "nbformat": 4,
 "nbformat_minor": 5
}
